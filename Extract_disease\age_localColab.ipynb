{
  "nbformat": 4,
  "nbformat_minor": 0,
  "metadata": {
    "colab": {
      "name": "Untitled77.ipynb",
      "provenance": [],
      "authorship_tag": "ABX9TyOcGI3g5HTcDOAFdLkKkSve",
      "include_colab_link": true
    },
    "kernelspec": {
      "name": "python3",
      "display_name": "Python 3"
    },
    "language_info": {
      "name": "python"
    }
  },
  "cells": [
    {
      "cell_type": "markdown",
      "metadata": {
        "id": "view-in-github",
        "colab_type": "text"
      },
      "source": [
        "<a href=\"https://colab.research.google.com/github/ykitaguchi77/manipulate_CSV/blob/master/Extract_disease%5Cage_localColab.ipynb\" target=\"_parent\"><img src=\"https://colab.research.google.com/assets/colab-badge.svg\" alt=\"Open In Colab\"/></a>"
      ]
    },
    {
      "cell_type": "markdown",
      "metadata": {
        "id": "hn2jTBMyw97k"
      },
      "source": [
        "#**指定した病名の含まれている行を抽出して新規リストとして出力するスクリプト**"
      ]
    },
    {
      "cell_type": "code",
      "metadata": {
        "id": "1G1U4PXDwLpr"
      },
      "source": [
        "import csv\n",
        "import numpy as np\n",
        "import os\n",
        "import os.path\n",
        "import sys\n",
        "import glob\n",
        "import pandas as pd\n",
        "import codecs"
      ],
      "execution_count": 9,
      "outputs": []
    },
    {
      "cell_type": "code",
      "metadata": {
        "id": "xodg0LgxrOne"
      },
      "source": [
        "#xからyまでの数列を作る\n",
        "def createList(x,y):\n",
        "    lst = []\n",
        "    for i in range(x,y+1):\n",
        "        lst.append(i)\n",
        "    return lst\n",
        "\n",
        "data_path = r'C:\\Users\\ykita\\FacePhoto\\DiseaseInfo_all_connected.csv'\n",
        "byoumei = '外斜視'\n",
        "min_age = 0\n",
        "max_age = 150\n",
        "column = createList(5,24) #5行目から24行目までの病名を探索\n"
      ],
      "execution_count": 160,
      "outputs": []
    },
    {
      "cell_type": "code",
      "metadata": {
        "colab": {
          "base_uri": "https://localhost:8080/",
          "height": 1000
        },
        "id": "Sfr0qDMMu4rn",
        "outputId": "cfc40225-41cf-49b5-d09f-075189566ed0"
      },
      "source": [
        "#CSV fileを開く\n",
        "#文字化けする時は、utf8, shift-jis, cp932のいずれかに変更\n",
        "with codecs.open(data_path, \"r\", \"utf8\", \"ignore\") as file:\n",
        "    df_orig = pd.read_csv(file, delimiter=\",\",  header=None)\n",
        "df_orig"
      ],
      "execution_count": 182,
      "outputs": [
        {
          "output_type": "execute_result",
          "data": {
            "text/plain": [
              "              0                                                  1     2   3   \\\n",
              "0     10893530.0  d8847829893b30e2bff7943b01ca557fe839cf9b649d5e...     1  45   \n",
              "1      7777705.0  a084892cbe599b02304e56535d7072d736271bd487abf4...     2  74   \n",
              "2     10527858.0  d53872e128cd3d405f313b5c179a079a2fbeda852bca2d...     3  59   \n",
              "3     10021590.0  9366a1267f814193d9ac2f13786d89acdb16456ee46db4...     4  46   \n",
              "4     10964694.0  c5fbf6684b10dc2f84635ba7fcb3b0c7b6021b34bf4938...     5  64   \n",
              "...          ...                                                ...   ...  ..   \n",
              "9820  11613788.0  757069f15bc74739c51f5fe03167d51f594f4779017b2b...  9831  43   \n",
              "9821   9055165.0  51e7f294b7b63f15864316bbaf5b701b43f0c11c18c9fd...  9832  50   \n",
              "9822  11452681.0  f7345ccf09fe678c1ba8487d9a61e4bfc1658144b98ae9...  9833  33   \n",
              "9823   6911048.0  23753e35a4b02c439e9adecab3d26887ba4729e07258fa...  9834  27   \n",
              "9824  11587782.0  b3e8e6f86945cf4e67c8e473ff99a6ecadb99b5327f5f5...  9835  73   \n",
              "\n",
              "          4           5             6           7          8          9   ...  \\\n",
              "0     Female      両側眼瞼痙攣          眼瞼痙攣       ドライアイ      近視性乱視        NaN  ...   \n",
              "1     Female         内斜視         内斜視術後       遠視性乱視        NaN        NaN  ...   \n",
              "2       Male        上下斜視         ドライアイ        混合乱視        NaN        NaN  ...   \n",
              "3     Female      右眼瞼下垂症        両側強度近視         NaN        NaN        NaN  ...   \n",
              "4     Female     円錐角膜の疑い  近視性網脈絡膜萎縮の疑い      外斜視の疑い  眼球運動障害の疑い      近視性乱視  ...   \n",
              "...      ...         ...           ...         ...        ...        ...  ...   \n",
              "9820  Female  右動眼神経麻痺の疑い     動眼神経麻痺の疑い      眼球運動障害      近視性乱視         複視  ...   \n",
              "9821  Female   右眼内レンズ挿入眼        左核性白内障     Ｃ型肝炎の疑い      ドライアイ  Ｃ型急性肝炎の疑い  ...   \n",
              "9822    Male     出血傾向の疑い     重症筋無力症の疑い  ウイルス性肝炎の疑い        内斜視      近視性乱視  ...   \n",
              "9823    Male   Ｃ型急性肝炎の疑い           外斜視    医原性血栓塞栓症      外斜視術後    両側調節緊張症  ...   \n",
              "9824    Male       ぶどう膜炎        両側結膜腫瘍         結膜炎      眼瞼下垂症         斜視  ...   \n",
              "\n",
              "             15   16       17         18        19   20   21   22   23   24  \n",
              "0           NaN  NaN      NaN        NaN       NaN  NaN  NaN  NaN  NaN  NaN  \n",
              "1           NaN  NaN      NaN        NaN       NaN  NaN  NaN  NaN  NaN  NaN  \n",
              "2           NaN  NaN      NaN        NaN       NaN  NaN  NaN  NaN  NaN  NaN  \n",
              "3           NaN  NaN      NaN        NaN       NaN  NaN  NaN  NaN  NaN  NaN  \n",
              "4           NaN  NaN      NaN        NaN       NaN  NaN  NaN  NaN  NaN  NaN  \n",
              "...         ...  ...      ...        ...       ...  ...  ...  ...  ...  ...  \n",
              "9820        NaN  NaN      NaN        NaN       NaN  NaN  NaN  NaN  NaN  NaN  \n",
              "9821  アレルギー性結膜炎  霰粒腫  Ｂ型肝炎の疑い  Ｂ型急性肝炎の疑い  甲状腺機能亢進症   弱視  NaN  NaN  NaN  NaN  \n",
              "9822        NaN  NaN      NaN        NaN       NaN  NaN  NaN  NaN  NaN  NaN  \n",
              "9823        NaN  NaN      NaN        NaN       NaN  NaN  NaN  NaN  NaN  NaN  \n",
              "9824        NaN  NaN      NaN        NaN       NaN  NaN  NaN  NaN  NaN  NaN  \n",
              "\n",
              "[9825 rows x 25 columns]"
            ],
            "text/html": [
              "<div>\n",
              "<style scoped>\n",
              "    .dataframe tbody tr th:only-of-type {\n",
              "        vertical-align: middle;\n",
              "    }\n",
              "\n",
              "    .dataframe tbody tr th {\n",
              "        vertical-align: top;\n",
              "    }\n",
              "\n",
              "    .dataframe thead th {\n",
              "        text-align: right;\n",
              "    }\n",
              "</style>\n",
              "<table border=\"1\" class=\"dataframe\">\n",
              "  <thead>\n",
              "    <tr style=\"text-align: right;\">\n",
              "      <th></th>\n",
              "      <th>0</th>\n",
              "      <th>1</th>\n",
              "      <th>2</th>\n",
              "      <th>3</th>\n",
              "      <th>4</th>\n",
              "      <th>5</th>\n",
              "      <th>6</th>\n",
              "      <th>7</th>\n",
              "      <th>8</th>\n",
              "      <th>9</th>\n",
              "      <th>...</th>\n",
              "      <th>15</th>\n",
              "      <th>16</th>\n",
              "      <th>17</th>\n",
              "      <th>18</th>\n",
              "      <th>19</th>\n",
              "      <th>20</th>\n",
              "      <th>21</th>\n",
              "      <th>22</th>\n",
              "      <th>23</th>\n",
              "      <th>24</th>\n",
              "    </tr>\n",
              "  </thead>\n",
              "  <tbody>\n",
              "    <tr>\n",
              "      <th>0</th>\n",
              "      <td>10893530.0</td>\n",
              "      <td>d8847829893b30e2bff7943b01ca557fe839cf9b649d5e...</td>\n",
              "      <td>1</td>\n",
              "      <td>45</td>\n",
              "      <td>Female</td>\n",
              "      <td>両側眼瞼痙攣</td>\n",
              "      <td>眼瞼痙攣</td>\n",
              "      <td>ドライアイ</td>\n",
              "      <td>近視性乱視</td>\n",
              "      <td>NaN</td>\n",
              "      <td>...</td>\n",
              "      <td>NaN</td>\n",
              "      <td>NaN</td>\n",
              "      <td>NaN</td>\n",
              "      <td>NaN</td>\n",
              "      <td>NaN</td>\n",
              "      <td>NaN</td>\n",
              "      <td>NaN</td>\n",
              "      <td>NaN</td>\n",
              "      <td>NaN</td>\n",
              "      <td>NaN</td>\n",
              "    </tr>\n",
              "    <tr>\n",
              "      <th>1</th>\n",
              "      <td>7777705.0</td>\n",
              "      <td>a084892cbe599b02304e56535d7072d736271bd487abf4...</td>\n",
              "      <td>2</td>\n",
              "      <td>74</td>\n",
              "      <td>Female</td>\n",
              "      <td>内斜視</td>\n",
              "      <td>内斜視術後</td>\n",
              "      <td>遠視性乱視</td>\n",
              "      <td>NaN</td>\n",
              "      <td>NaN</td>\n",
              "      <td>...</td>\n",
              "      <td>NaN</td>\n",
              "      <td>NaN</td>\n",
              "      <td>NaN</td>\n",
              "      <td>NaN</td>\n",
              "      <td>NaN</td>\n",
              "      <td>NaN</td>\n",
              "      <td>NaN</td>\n",
              "      <td>NaN</td>\n",
              "      <td>NaN</td>\n",
              "      <td>NaN</td>\n",
              "    </tr>\n",
              "    <tr>\n",
              "      <th>2</th>\n",
              "      <td>10527858.0</td>\n",
              "      <td>d53872e128cd3d405f313b5c179a079a2fbeda852bca2d...</td>\n",
              "      <td>3</td>\n",
              "      <td>59</td>\n",
              "      <td>Male</td>\n",
              "      <td>上下斜視</td>\n",
              "      <td>ドライアイ</td>\n",
              "      <td>混合乱視</td>\n",
              "      <td>NaN</td>\n",
              "      <td>NaN</td>\n",
              "      <td>...</td>\n",
              "      <td>NaN</td>\n",
              "      <td>NaN</td>\n",
              "      <td>NaN</td>\n",
              "      <td>NaN</td>\n",
              "      <td>NaN</td>\n",
              "      <td>NaN</td>\n",
              "      <td>NaN</td>\n",
              "      <td>NaN</td>\n",
              "      <td>NaN</td>\n",
              "      <td>NaN</td>\n",
              "    </tr>\n",
              "    <tr>\n",
              "      <th>3</th>\n",
              "      <td>10021590.0</td>\n",
              "      <td>9366a1267f814193d9ac2f13786d89acdb16456ee46db4...</td>\n",
              "      <td>4</td>\n",
              "      <td>46</td>\n",
              "      <td>Female</td>\n",
              "      <td>右眼瞼下垂症</td>\n",
              "      <td>両側強度近視</td>\n",
              "      <td>NaN</td>\n",
              "      <td>NaN</td>\n",
              "      <td>NaN</td>\n",
              "      <td>...</td>\n",
              "      <td>NaN</td>\n",
              "      <td>NaN</td>\n",
              "      <td>NaN</td>\n",
              "      <td>NaN</td>\n",
              "      <td>NaN</td>\n",
              "      <td>NaN</td>\n",
              "      <td>NaN</td>\n",
              "      <td>NaN</td>\n",
              "      <td>NaN</td>\n",
              "      <td>NaN</td>\n",
              "    </tr>\n",
              "    <tr>\n",
              "      <th>4</th>\n",
              "      <td>10964694.0</td>\n",
              "      <td>c5fbf6684b10dc2f84635ba7fcb3b0c7b6021b34bf4938...</td>\n",
              "      <td>5</td>\n",
              "      <td>64</td>\n",
              "      <td>Female</td>\n",
              "      <td>円錐角膜の疑い</td>\n",
              "      <td>近視性網脈絡膜萎縮の疑い</td>\n",
              "      <td>外斜視の疑い</td>\n",
              "      <td>眼球運動障害の疑い</td>\n",
              "      <td>近視性乱視</td>\n",
              "      <td>...</td>\n",
              "      <td>NaN</td>\n",
              "      <td>NaN</td>\n",
              "      <td>NaN</td>\n",
              "      <td>NaN</td>\n",
              "      <td>NaN</td>\n",
              "      <td>NaN</td>\n",
              "      <td>NaN</td>\n",
              "      <td>NaN</td>\n",
              "      <td>NaN</td>\n",
              "      <td>NaN</td>\n",
              "    </tr>\n",
              "    <tr>\n",
              "      <th>...</th>\n",
              "      <td>...</td>\n",
              "      <td>...</td>\n",
              "      <td>...</td>\n",
              "      <td>...</td>\n",
              "      <td>...</td>\n",
              "      <td>...</td>\n",
              "      <td>...</td>\n",
              "      <td>...</td>\n",
              "      <td>...</td>\n",
              "      <td>...</td>\n",
              "      <td>...</td>\n",
              "      <td>...</td>\n",
              "      <td>...</td>\n",
              "      <td>...</td>\n",
              "      <td>...</td>\n",
              "      <td>...</td>\n",
              "      <td>...</td>\n",
              "      <td>...</td>\n",
              "      <td>...</td>\n",
              "      <td>...</td>\n",
              "      <td>...</td>\n",
              "    </tr>\n",
              "    <tr>\n",
              "      <th>9820</th>\n",
              "      <td>11613788.0</td>\n",
              "      <td>757069f15bc74739c51f5fe03167d51f594f4779017b2b...</td>\n",
              "      <td>9831</td>\n",
              "      <td>43</td>\n",
              "      <td>Female</td>\n",
              "      <td>右動眼神経麻痺の疑い</td>\n",
              "      <td>動眼神経麻痺の疑い</td>\n",
              "      <td>眼球運動障害</td>\n",
              "      <td>近視性乱視</td>\n",
              "      <td>複視</td>\n",
              "      <td>...</td>\n",
              "      <td>NaN</td>\n",
              "      <td>NaN</td>\n",
              "      <td>NaN</td>\n",
              "      <td>NaN</td>\n",
              "      <td>NaN</td>\n",
              "      <td>NaN</td>\n",
              "      <td>NaN</td>\n",
              "      <td>NaN</td>\n",
              "      <td>NaN</td>\n",
              "      <td>NaN</td>\n",
              "    </tr>\n",
              "    <tr>\n",
              "      <th>9821</th>\n",
              "      <td>9055165.0</td>\n",
              "      <td>51e7f294b7b63f15864316bbaf5b701b43f0c11c18c9fd...</td>\n",
              "      <td>9832</td>\n",
              "      <td>50</td>\n",
              "      <td>Female</td>\n",
              "      <td>右眼内レンズ挿入眼</td>\n",
              "      <td>左核性白内障</td>\n",
              "      <td>Ｃ型肝炎の疑い</td>\n",
              "      <td>ドライアイ</td>\n",
              "      <td>Ｃ型急性肝炎の疑い</td>\n",
              "      <td>...</td>\n",
              "      <td>アレルギー性結膜炎</td>\n",
              "      <td>霰粒腫</td>\n",
              "      <td>Ｂ型肝炎の疑い</td>\n",
              "      <td>Ｂ型急性肝炎の疑い</td>\n",
              "      <td>甲状腺機能亢進症</td>\n",
              "      <td>弱視</td>\n",
              "      <td>NaN</td>\n",
              "      <td>NaN</td>\n",
              "      <td>NaN</td>\n",
              "      <td>NaN</td>\n",
              "    </tr>\n",
              "    <tr>\n",
              "      <th>9822</th>\n",
              "      <td>11452681.0</td>\n",
              "      <td>f7345ccf09fe678c1ba8487d9a61e4bfc1658144b98ae9...</td>\n",
              "      <td>9833</td>\n",
              "      <td>33</td>\n",
              "      <td>Male</td>\n",
              "      <td>出血傾向の疑い</td>\n",
              "      <td>重症筋無力症の疑い</td>\n",
              "      <td>ウイルス性肝炎の疑い</td>\n",
              "      <td>内斜視</td>\n",
              "      <td>近視性乱視</td>\n",
              "      <td>...</td>\n",
              "      <td>NaN</td>\n",
              "      <td>NaN</td>\n",
              "      <td>NaN</td>\n",
              "      <td>NaN</td>\n",
              "      <td>NaN</td>\n",
              "      <td>NaN</td>\n",
              "      <td>NaN</td>\n",
              "      <td>NaN</td>\n",
              "      <td>NaN</td>\n",
              "      <td>NaN</td>\n",
              "    </tr>\n",
              "    <tr>\n",
              "      <th>9823</th>\n",
              "      <td>6911048.0</td>\n",
              "      <td>23753e35a4b02c439e9adecab3d26887ba4729e07258fa...</td>\n",
              "      <td>9834</td>\n",
              "      <td>27</td>\n",
              "      <td>Male</td>\n",
              "      <td>Ｃ型急性肝炎の疑い</td>\n",
              "      <td>外斜視</td>\n",
              "      <td>医原性血栓塞栓症</td>\n",
              "      <td>外斜視術後</td>\n",
              "      <td>両側調節緊張症</td>\n",
              "      <td>...</td>\n",
              "      <td>NaN</td>\n",
              "      <td>NaN</td>\n",
              "      <td>NaN</td>\n",
              "      <td>NaN</td>\n",
              "      <td>NaN</td>\n",
              "      <td>NaN</td>\n",
              "      <td>NaN</td>\n",
              "      <td>NaN</td>\n",
              "      <td>NaN</td>\n",
              "      <td>NaN</td>\n",
              "    </tr>\n",
              "    <tr>\n",
              "      <th>9824</th>\n",
              "      <td>11587782.0</td>\n",
              "      <td>b3e8e6f86945cf4e67c8e473ff99a6ecadb99b5327f5f5...</td>\n",
              "      <td>9835</td>\n",
              "      <td>73</td>\n",
              "      <td>Male</td>\n",
              "      <td>ぶどう膜炎</td>\n",
              "      <td>両側結膜腫瘍</td>\n",
              "      <td>結膜炎</td>\n",
              "      <td>眼瞼下垂症</td>\n",
              "      <td>斜視</td>\n",
              "      <td>...</td>\n",
              "      <td>NaN</td>\n",
              "      <td>NaN</td>\n",
              "      <td>NaN</td>\n",
              "      <td>NaN</td>\n",
              "      <td>NaN</td>\n",
              "      <td>NaN</td>\n",
              "      <td>NaN</td>\n",
              "      <td>NaN</td>\n",
              "      <td>NaN</td>\n",
              "      <td>NaN</td>\n",
              "    </tr>\n",
              "  </tbody>\n",
              "</table>\n",
              "<p>9825 rows × 25 columns</p>\n",
              "</div>"
            ]
          },
          "metadata": {},
          "execution_count": 182
        }
      ]
    },
    {
      "cell_type": "markdown",
      "metadata": {
        "id": "iYWftQnO_kCF"
      },
      "source": [
        "#**病名でソート**"
      ]
    },
    {
      "cell_type": "code",
      "metadata": {
        "colab": {
          "base_uri": "https://localhost:8080/"
        },
        "id": "wfH1KRcs0KpU",
        "outputId": "47ed6836-0d50-4ba9-e2e7-3cefc46ac531"
      },
      "source": [
        "def extract(byoumei, df_orig):\n",
        "    #もとのcsvと列名を揃えたデータフレームを作成\n",
        "    cols =  df_orig.columns\n",
        "    df_dst = pd.DataFrame(index=[], columns=cols)\n",
        "    for i in column:\n",
        "        df_extract = (df_orig[df_orig[i].str.contains(byoumei, na=False)])\n",
        "        df_dst = pd.concat([df_extract, df_dst])\n",
        "    df_dst = df_dst[~df_dst.duplicated()]\n",
        "    df_dst.sort_values(by=2,ascending=True, inplace=True)\n",
        "    return df_dst\n",
        "\n",
        "df_dst = extract(byoumei, df_orig)\n",
        "#print(df_dst)\n",
        "print(len(df_dst))"
      ],
      "execution_count": 180,
      "outputs": [
        {
          "output_type": "stream",
          "name": "stdout",
          "text": [
            "1468\n"
          ]
        }
      ]
    },
    {
      "cell_type": "code",
      "metadata": {
        "id": "hWZoEEBB-Tbt"
      },
      "source": [
        "dst_path = r'C:\\Users\\ykita\\FacePhoto\\DiseaseInfo_extracted_'+byoumei+'.csv'\n",
        "df_dst.to_csv(dst_path, encoding='utf_8_sig', index = False, header=False)"
      ],
      "execution_count": 162,
      "outputs": []
    },
    {
      "cell_type": "markdown",
      "metadata": {
        "id": "j_Ma9LD4_q-9"
      },
      "source": [
        "#**年齢でソート**"
      ]
    },
    {
      "cell_type": "code",
      "metadata": {
        "colab": {
          "base_uri": "https://localhost:8080/"
        },
        "id": "f5zCqZa0BYsj",
        "outputId": "11670d10-6efc-4ebb-b274-1c05c7940c0d"
      },
      "source": [
        "def sort_by_age(min_age, max_age, df):\n",
        "    df_dst = df[(df[3]>=min_age) & (df[3]<=max_age)] #3列目が年齢に該当\n",
        "    return df_dst\n",
        "df_dst = sort_by_age(min_age, max_age,df_orig)\n",
        "print(len(df_dst))"
      ],
      "execution_count": 144,
      "outputs": [
        {
          "output_type": "stream",
          "name": "stdout",
          "text": [
            "2945\n"
          ]
        }
      ]
    },
    {
      "cell_type": "code",
      "metadata": {
        "id": "6IOVddl5CLtE"
      },
      "source": [
        "dst_path = r'C:\\Users\\ykita\\FacePhoto\\DiseaseInfo_ageSorted_'+str(min_age)+'to'+str(max_age)+'.csv'\n",
        "df_dst.to_csv(dst_path, encoding='utf_8_sig', index = False, header=False)"
      ],
      "execution_count": null,
      "outputs": []
    },
    {
      "cell_type": "markdown",
      "metadata": {
        "id": "cWsMhTgIEOwk"
      },
      "source": [
        "#**病名かつ年齢でソート**"
      ]
    },
    {
      "cell_type": "code",
      "metadata": {
        "colab": {
          "base_uri": "https://localhost:8080/"
        },
        "id": "B5PHOS44EXzL",
        "outputId": "fc9241ba-1e93-4816-b8cc-d5dccaab3f65"
      },
      "source": [
        "byoumei = '内斜視'\n",
        "min_age = 0\n",
        "max_age = 10\n",
        "\n",
        "df_dst = extract(byoumei, df_orig)\n",
        "df_dst = sort_by_age(min_age, max_age,df_dst)\n",
        "print(len(df_dst))\n"
      ],
      "execution_count": 167,
      "outputs": [
        {
          "output_type": "stream",
          "name": "stdout",
          "text": [
            "345\n"
          ]
        }
      ]
    },
    {
      "cell_type": "markdown",
      "metadata": {
        "id": "OI_YeDViEz58"
      },
      "source": [
        "#**病名が含まれていないものを抜き出し（年齢縛りあり）**"
      ]
    },
    {
      "cell_type": "code",
      "metadata": {
        "colab": {
          "base_uri": "https://localhost:8080/"
        },
        "id": "itnfUQSIE6BT",
        "outputId": "73a0430b-52d8-46a7-a92b-a37f1d52450a"
      },
      "source": [
        "def reverse_extract(byoumei, df_orig):\n",
        "    #もとのcsvと列名を揃えたデータフレームを作成\n",
        "    cols =  df_orig.columns\n",
        "    df_byoumei = pd.DataFrame(index=[], columns=cols)\n",
        "    #まず病名が含まれるdataframeを抜き出す\n",
        "    for i in column:\n",
        "        df_extract = (df_orig[df_orig[i].str.contains(byoumei, na=False)]) #文字列が含まれていないものを抜き出し\n",
        "        df_byoumei = pd.concat([df_extract, df_byoumei])\n",
        "    df_byoumei = df_byoumei[~df_byoumei.duplicated()]\n",
        "    df_dst = df_orig[~df_orig[2].isin(df_byoumei[2])]\n",
        "    #df_dst.sort_values(by=2,ascending=True, inplace=True)\n",
        "    return df_dst\n",
        "\n",
        "df_dst = reverse_extract(\"内斜視\", df_orig)\n",
        "df_dst = reverse_extract(\"外斜視\", df_dst)\n",
        "df_dst = sort_by_age(0, 10,df_dst)\n",
        "\n",
        "print(len(df_dst))"
      ],
      "execution_count": 185,
      "outputs": [
        {
          "output_type": "stream",
          "name": "stdout",
          "text": [
            "635\n"
          ]
        }
      ]
    },
    {
      "cell_type": "code",
      "metadata": {
        "id": "vwM4ZEEEHIA6"
      },
      "source": [
        "dst_path = r'C:\\Users\\ykita\\FacePhoto\\DiseaseInfo_'+'内斜視外斜視以外_0to10'+'.csv'\n",
        "df_dst.to_csv(dst_path, encoding='utf_8_sig', index = False, header=False)"
      ],
      "execution_count": 186,
      "outputs": []
    }
  ]
}