{
  "nbformat": 4,
  "nbformat_minor": 0,
  "metadata": {
    "colab": {
      "name": "Untitled80.ipynb",
      "provenance": [],
      "toc_visible": true,
      "authorship_tag": "ABX9TyNpsmQIQov+h5Z3Je9F4jDj",
      "include_colab_link": true
    },
    "kernelspec": {
      "name": "python3",
      "display_name": "Python 3"
    },
    "language_info": {
      "name": "python"
    }
  },
  "cells": [
    {
      "cell_type": "markdown",
      "metadata": {
        "id": "view-in-github",
        "colab_type": "text"
      },
      "source": [
        "<a href=\"https://colab.research.google.com/github/ykitaguchi77/manipulate_CSV/blob/master/csv%E3%81%AE%E3%83%AA%E3%82%B9%E3%83%88%E3%81%A7%E6%8C%87%E5%AE%9A%E3%81%97%E3%81%9F%E7%94%BB%E5%83%8F%E3%82%92%E3%82%B3%E3%83%94%E3%83%BC.ipynb\" target=\"_parent\"><img src=\"https://colab.research.google.com/assets/colab-badge.svg\" alt=\"Open In Colab\"/></a>"
      ]
    },
    {
      "cell_type": "markdown",
      "metadata": {
        "id": "Z7fAQHGW-3qJ"
      },
      "source": [
        "#**CSVのリストから指定された画像を抜き出すスクリプト**\n"
      ]
    },
    {
      "cell_type": "code",
      "metadata": {
        "colab": {
          "base_uri": "https://localhost:8080/"
        },
        "id": "XfjsBpLG_oG6",
        "outputId": "31b63d6a-20fd-4dfa-9f3b-deda730f37e6"
      },
      "source": [
        "#Google colabをマウント\n",
        "from google.colab import drive\n",
        "drive.mount('/content/drive')"
      ],
      "execution_count": 1,
      "outputs": [
        {
          "output_type": "stream",
          "text": [
            "Mounted at /content/drive\n"
          ],
          "name": "stdout"
        }
      ]
    },
    {
      "cell_type": "markdown",
      "metadata": {
        "id": "bdJiUZRsxphm"
      },
      "source": [
        "csvファイルにファイルのリスト→n_column<br>\n",
        "同じファイルに抜き出すかどうかのリスト→s_column（抜き出すファイル：1, それ以外:0)<br>\n",
        "元の写真が入っているフォルダ　photo_dir\n",
        "コピー先のフォルダ target_dir\n"
      ]
    },
    {
      "cell_type": "code",
      "metadata": {
        "id": "EY48d3nVL7xf"
      },
      "source": [
        "csv_path = '/content/drive/MyDrive/Deep_learning/Olympia_dataset/AI_treatment.csv' #リストのcsv\n",
        "s_ｃolumn = \"Treatment\"   #抜き出したいファイル名が書いている列\n",
        "n_column = \"Photo\" #写真番号が書いてある列\n",
        "\n",
        "photo_dir = \"/content/drive/MyDrive/Deep_learning/Olympia_dataset/dataset_500px\" #写真が保存されているフォルダ\n",
        "target_dir = \"/content/drive/MyDrive/Deep_learning/Olympia_dataset/treated\""
      ],
      "execution_count": 45,
      "outputs": []
    },
    {
      "cell_type": "code",
      "metadata": {
        "colab": {
          "base_uri": "https://localhost:8080/"
        },
        "id": "nDecPUe0-3BU",
        "outputId": "825b4f67-924b-45fa-f49f-11225fec2f6a"
      },
      "source": [
        "import pandas as pd\n",
        "\n",
        "\n",
        "df = pd.read_csv(csv_path, header=0, encoding='shift_jis')\n",
        "\n",
        "pd.set_option('display.max_rows', 1000)\n",
        "pd.set_option('display.max_columns', 10)\n",
        "print(df)\n"
      ],
      "execution_count": 46,
      "outputs": [
        {
          "output_type": "stream",
          "text": [
            "      Photo  性       初診年月日        生年月日  年令  ... 程度      分類                治療法  \\\n",
            "0         1  男  2019.09.19  1962.09.11  57  ...  0  コントロール                NaN   \n",
            "1         2  女  2019.08.27  1960.03.10  59  ...  3       軽                NaN   \n",
            "2         3  女  2019.01.04  1971.04.12  47  ...  3       中                NaN   \n",
            "3         4  女  2019.01.04  1969.04.19  49  ...  1       中  パルス、筋ケナ、球後注、リニアック   \n",
            "4         5  男  2019.01.04  1966.11.24  52  ...  2       中          筋ケナ、Botox   \n",
            "...     ... ..         ...         ...  ..  ... ..     ...                ...   \n",
            "1011   1027  女  2019.11.26  1975.05.01  44  ...  2       軽                瞼ケナ   \n",
            "1012   1028  女  2019.11.27  1977.01.17  42  ...  1       中            瞼ケナ、パルス   \n",
            "1013   1029  女  2019.11.28  1950.08.30  69  ...  1       重    パルス、Botox、リニアック   \n",
            "1014   1030  女  2019.12.03  1975.11.24  44  ...  1       重                パルス   \n",
            "1015   1031  男  2019.12.03  1962.09.17  57  ...  1       重      球後注、パルス、Botox   \n",
            "\n",
            "      ステロイド治療  Treatment  \n",
            "0         NaN          0  \n",
            "1         NaN          0  \n",
            "2         NaN          0  \n",
            "3         パルス          1  \n",
            "4        局所注射          1  \n",
            "...       ...        ...  \n",
            "1011     局所注射          1  \n",
            "1012      パルス          1  \n",
            "1013      パルス          1  \n",
            "1014      パルス          1  \n",
            "1015      パルス          1  \n",
            "\n",
            "[1016 rows x 15 columns]\n"
          ],
          "name": "stdout"
        }
      ]
    },
    {
      "cell_type": "code",
      "metadata": {
        "id": "1_JapR4UOkM8"
      },
      "source": [
        "photo_list = df[df['Treatment']==1][\"Photo\"].tolist()　　#Treatmentに\"1\"と記載されているものを抜き出す"
      ],
      "execution_count": 49,
      "outputs": []
    },
    {
      "cell_type": "code",
      "metadata": {
        "id": "cMdpcNRIjrun"
      },
      "source": [
        "import os\n",
        "import shutil\n",
        "\n",
        "if os.path.isdir(target_dir):\n",
        "    print(\"ディレクトリが存在します\")\n",
        "else:\n",
        "    os.makedirs(target_dir)"
      ],
      "execution_count": 51,
      "outputs": []
    },
    {
      "cell_type": "code",
      "metadata": {
        "id": "1Z3zNrLgoyDr"
      },
      "source": [
        "for i in photo_list:\n",
        "    shutil.copyfile(photo_dir+'/'+str(i)+\".JPG\", target_dir+'/'+str(i)+\".JPG\")\n",
        "    print(str(i)+\" copied!\")"
      ],
      "execution_count": null,
      "outputs": []
    },
    {
      "cell_type": "code",
      "metadata": {
        "id": "IH5KXQ670qwI"
      },
      "source": [
        ""
      ],
      "execution_count": null,
      "outputs": []
    },
    {
      "cell_type": "markdown",
      "metadata": {
        "id": "M8JvP-JgyjUN"
      },
      "source": [
        "#**targetフォルダを削除したいときに使用**\n",
        "\n"
      ]
    },
    {
      "cell_type": "code",
      "metadata": {
        "id": "IhIkdQatyjgH"
      },
      "source": [
        "import shutil\n",
        "\n",
        "directory = target_path\n",
        "\n",
        "try:\n",
        "    shutil.rmtree(directory)\n",
        "except FileNotFoundError:\n",
        "    pass"
      ],
      "execution_count": null,
      "outputs": []
    }
  ]
}