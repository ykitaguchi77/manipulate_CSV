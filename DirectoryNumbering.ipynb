{
  "nbformat": 4,
  "nbformat_minor": 0,
  "metadata": {
    "colab": {
      "name": "Untitled56.ipynb",
      "provenance": [],
      "authorship_tag": "ABX9TyM3BAZ9TnQHT9FTqZUWesZ+",
      "include_colab_link": true
    },
    "kernelspec": {
      "name": "python3",
      "display_name": "Python 3"
    },
    "language_info": {
      "name": "python"
    }
  },
  "cells": [
    {
      "cell_type": "markdown",
      "metadata": {
        "id": "view-in-github",
        "colab_type": "text"
      },
      "source": [
        "<a href=\"https://colab.research.google.com/github/ykitaguchi77/manipulate_CSV/blob/master/DirectoryNumbering.ipynb\" target=\"_parent\"><img src=\"https://colab.research.google.com/assets/colab-badge.svg\" alt=\"Open In Colab\"/></a>"
      ]
    },
    {
      "cell_type": "code",
      "metadata": {
        "id": "T0QynmKGYg82"
      },
      "source": [
        "import csv\n",
        "import numpy as np\n",
        "import os\n",
        "\n",
        "\n",
        "'''\n",
        "ダウンロードした画像ファイルのidが長すぎるので、\n",
        "対応した番号(1, 2, 3...)にフォルダ名を振りなおすscript\n",
        "'''\n",
        "\n",
        "#Diseaseinfo_modified.csvから、Bの列の情報を抜き出す\n",
        "\n",
        "\n",
        "data = np.loadtxt(\"DiseaseInfo_all_connected_new.csv\",       # 読み込みたいファイルのパス\n",
        "                  delimiter=\",\", dtype=\"unicode\", encoding='utf-8')  # ファイルの区切り文字\n",
        "\n",
        "\n",
        "#目的パスにあるフォルダの名前を書き換える\n",
        "for i in range(0, data.shape[0]):\n",
        "    #print('E:\\\\眼位写真\\\\Files\\\\' + str(data[i, 1]))\n",
        "    #print(os.path.exists('E:\\\\眼位写真\\\\Files\\\\' + str(data[i,1])))\n",
        "\n",
        "    try:\n",
        "        os.rename('E:\\\\眼位写真2\\\\Files\\\\' + str(data[i,1]), 'E:\\\\眼位写真2\\\\Files\\\\' + str(data[i,0]))\n",
        "    except FileNotFoundError:\n",
        "        print(str(data[i,1]) + 'のフォルダが見つかりませんでした')\n",
        "\n"
      ],
      "execution_count": null,
      "outputs": []
    }
  ]
}