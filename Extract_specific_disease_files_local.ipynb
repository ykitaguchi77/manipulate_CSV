{
  "nbformat": 4,
  "nbformat_minor": 0,
  "metadata": {
    "colab": {
      "provenance": [],
      "authorship_tag": "ABX9TyMRYWtx7L9XcodIxNyy/HCQ",
      "include_colab_link": true
    },
    "kernelspec": {
      "name": "python3",
      "display_name": "Python 3"
    },
    "language_info": {
      "name": "python"
    }
  },
  "cells": [
    {
      "cell_type": "markdown",
      "metadata": {
        "id": "view-in-github",
        "colab_type": "text"
      },
      "source": [
        "<a href=\"https://colab.research.google.com/github/ykitaguchi77/manipulate_CSV/blob/master/Extract_specific_disease_files_local.ipynb\" target=\"_parent\"><img src=\"https://colab.research.google.com/assets/colab-badge.svg\" alt=\"Open In Colab\"/></a>"
      ]
    },
    {
      "cell_type": "markdown",
      "source": [
        "# 特定の疾患の患者の画像ファイルを、眼位写真Newから抜き出す"
      ],
      "metadata": {
        "id": "vhnDrQekPooV"
      }
    },
    {
      "cell_type": "code",
      "source": [
        "import pandas as pd\n",
        "\n",
        "# shift_jis での読み込みを試みる\n",
        "try:\n",
        "    df = pd.read_csv(\"F:\\●DiseaseInfo_all_connected_20230907.csv\", encoding=\"shift_jis\", header=None)\n",
        "except UnicodeDecodeError:\n",
        "    # cp932 での読み込みを試みる\n",
        "    df = pd.read_csv(\"F:\\●DiseaseInfo_all_connected_20230907.csv\", encoding=\"cp932\", header=None)\n",
        "\n",
        "# 「眼窩腫瘍」あるいは「涙腺腫瘍」が含まれている行を抜き出す\n",
        "filtered_df = df[df.apply(lambda row: row.astype(str).str.contains('眼窩腫瘍|涙腺腫瘍').any(), axis=1)]\n",
        "\n",
        "filtered_df\n",
        "\n",
        "filtered_df.to_csv(r\"D:\\ダウンロード\\filtered_diseases_眼窩腫瘍_涙腺腫瘍.csv\", index=False, header=0, encoding=\"shift_jis\")\n",
        "\n"
      ],
      "metadata": {
        "id": "iUGZshvkN8E-"
      },
      "execution_count": null,
      "outputs": []
    },
    {
      "cell_type": "code",
      "source": [
        "# C列 (2番目のカラム) のデータをリストに変換\n",
        "patient_number_list = filtered_df.iloc[:, 2].tolist()\n",
        "patient_number_list\n"
      ],
      "metadata": {
        "id": "j1Q3w86nPQm1"
      },
      "execution_count": null,
      "outputs": []
    },
    {
      "cell_type": "code",
      "execution_count": null,
      "metadata": {
        "id": "02Y6AJWxKwcr"
      },
      "outputs": [],
      "source": [
        "\"\"\"\n",
        "特定の数字リストに基づいて眼位写真NEW内のファイルをフィルタリングし、マッチするファイルのフルパスをリストに保存\n",
        "\n",
        "\"\"\"\n",
        "\n",
        "import os\n",
        "import re\n",
        "\n",
        "# 1. Create an empty list\n",
        "resulting_files = []\n",
        "\n",
        "# 2. Iterate over all files in the specified directory\n",
        "# Note: This code cannot be run in this environment, but is provided for reference.\n",
        "for filename in os.listdir(\"F:\\\\眼位写真NEW\"):\n",
        "    # 3. Extract the number from the basename\n",
        "    base_name = os.path.basename(filename)\n",
        "    match = re.match(r\"^\\d+\", base_name)\n",
        "    if match:\n",
        "        number = int(match.group(0))\n",
        "        # 4. Check if the number is in the specified list\n",
        "        if number in patient_number_list:\n",
        "            resulting_files.append(os.path.join(\"F:\\\\眼位写真NEW\", filename))\n",
        "\n",
        "# Output the resulting_files list (commented out since we cannot run the os.listdir in this environment)\n",
        "resulting_files\n"
      ]
    },
    {
      "cell_type": "code",
      "source": [
        "def extract_dates_and_years(file_paths):\n",
        "    # 日付を抜き出す\n",
        "    dates = []\n",
        "    for path in file_paths:\n",
        "        date_match = re.search(r'(\\d{8})', path)\n",
        "        if date_match:\n",
        "            dates.append(date_match.group(1))\n",
        "\n",
        "    # 日付から年を抜き出す\n",
        "    years = [date[:4] for date in dates]\n",
        "\n",
        "    return dates, years\n",
        "\n",
        "def filter_files_by_year(file_paths, start_year):\n",
        "    _, years = extract_dates_and_years(file_paths)\n",
        "\n",
        "    # Filtering files based on the year\n",
        "    filtered_files = [file for file, year in zip(file_paths, years) if int(year) >= start_year]\n",
        "\n",
        "    return filtered_files\n",
        "\n",
        "# Filtering the resulting_files list for files from 2017 onwards\n",
        "filtered_files_2017_onwards = filter_files_by_year(resulting_files, 2017)\n",
        "filtered_files_2017_onwards\n"
      ],
      "metadata": {
        "id": "KTA75dhXLp_P"
      },
      "execution_count": null,
      "outputs": []
    },
    {
      "cell_type": "code",
      "source": [
        "len(filtered_files_2017_onwards)"
      ],
      "metadata": {
        "colab": {
          "base_uri": "https://localhost:8080/"
        },
        "id": "WMufadCELrIU",
        "outputId": "7e29bfd7-a5f3-4121-f298-f9db5ebbed9a"
      },
      "execution_count": null,
      "outputs": [
        {
          "output_type": "execute_result",
          "data": {
            "text/plain": [
              "1533"
            ]
          },
          "metadata": {},
          "execution_count": 38
        }
      ]
    },
    {
      "cell_type": "code",
      "source": [
        "from tqdm import tqdm\n",
        "\n",
        "destination_folder = \"F:\\\\眼位写真\\\\眼位写真_眼窩涙腺腫瘍\"\n",
        "\n",
        "# If the folder already exists, delete it\n",
        "if os.path.exists(destination_folder):\n",
        "    shutil.rmtree(destination_folder)\n",
        "os.makedirs(destination_folder)\n",
        "\n",
        "# Copy files to the destination folder with tqdm progress bar\n",
        "for file_path in tqdm(filtered_files_2017_onwards, desc=\"Copying files\"):\n",
        "    shutil.copy(file_path, destination_folder)"
      ],
      "metadata": {
        "colab": {
          "base_uri": "https://localhost:8080/"
        },
        "id": "XonYuV06Nq4q",
        "outputId": "7ba4620a-cb9c-4998-e89d-a338374fe1f0"
      },
      "execution_count": null,
      "outputs": [
        {
          "output_type": "stream",
          "name": "stderr",
          "text": [
            "Copying files: 100%|███████████████████████████████████████████████████████████████| 1533/1533 [00:20<00:00, 74.83it/s]\n"
          ]
        }
      ]
    },
    {
      "cell_type": "markdown",
      "source": [],
      "metadata": {
        "id": "LVdu_WqO85Xj"
      }
    },
    {
      "cell_type": "code",
      "source": [
        "data = []\n",
        "\n",
        "for path in resulting_files:\n",
        "    matches = re.findall(r'(\\d+)-(\\d+)-(\\d+)-\\d+_(\\w+)\\.', path)\n",
        "    if matches:\n",
        "        row = []\n",
        "        for match in matches[0]:\n",
        "            if match.isdigit():\n",
        "                row.append(int(match))\n",
        "            else:\n",
        "                row.append(match)\n",
        "        data.append(row)\n",
        "\n",
        "df = pd.DataFrame(data, columns=['Number1', 'Number2', 'Number3', 'Hash'])\n",
        "df"
      ],
      "metadata": {
        "id": "3eBgP2Y_85oK",
        "outputId": "eac6d411-7747-4790-a0c8-8e581a318f8d",
        "colab": {
          "base_uri": "https://localhost:8080/",
          "height": 424
        }
      },
      "execution_count": 6,
      "outputs": [
        {
          "output_type": "execute_result",
          "data": {
            "text/plain": [
              "      Number1   Number2  Number3  \\\n",
              "0        1035  20151209       74   \n",
              "1        1035  20160219       74   \n",
              "2        1062  20180404       80   \n",
              "3        1062  20180404       80   \n",
              "4        1062  20180404       80   \n",
              "...       ...       ...      ...   \n",
              "2382      981  20170913       66   \n",
              "2383      981  20171115       67   \n",
              "2384      981  20171115       67   \n",
              "2385      981  20180314       67   \n",
              "2386      981  20180912       67   \n",
              "\n",
              "                                                   Hash  \n",
              "0     15b9ca9c723e6758b94b6bb27a655cb1564266926033d5...  \n",
              "1     1ffc475571cc0b0a277c025999c513ddd69a77b96fc703...  \n",
              "2     9192f0dcaee87f1f8071387fac79037b7a40212ac86a25...  \n",
              "3     08db1dfe18960bc5e785256a12f514a56ff968040dde8a...  \n",
              "4     3e18fda968b32ddf462c3d2a8f615d63f48e4954e4d352...  \n",
              "...                                                 ...  \n",
              "2382  074cbd7715adb5a0b1acf10b4cfdf8c3a93f3fdecfb1fc...  \n",
              "2383  7414786a9d3a2aaa23860bc7eef1a4b6b49fc5a967104e...  \n",
              "2384  b83239275619ead317d5956489d6cd60902a030ba81dd8...  \n",
              "2385  43b02e9ec1903d32d76ba638447cffa04582fd29045f14...  \n",
              "2386  8fd2a92660d059f5e32d451f65b579c27958a85c4f1520...  \n",
              "\n",
              "[2387 rows x 4 columns]"
            ],
            "text/html": [
              "<div>\n",
              "<style scoped>\n",
              "    .dataframe tbody tr th:only-of-type {\n",
              "        vertical-align: middle;\n",
              "    }\n",
              "\n",
              "    .dataframe tbody tr th {\n",
              "        vertical-align: top;\n",
              "    }\n",
              "\n",
              "    .dataframe thead th {\n",
              "        text-align: right;\n",
              "    }\n",
              "</style>\n",
              "<table border=\"1\" class=\"dataframe\">\n",
              "  <thead>\n",
              "    <tr style=\"text-align: right;\">\n",
              "      <th></th>\n",
              "      <th>Number1</th>\n",
              "      <th>Number2</th>\n",
              "      <th>Number3</th>\n",
              "      <th>Hash</th>\n",
              "    </tr>\n",
              "  </thead>\n",
              "  <tbody>\n",
              "    <tr>\n",
              "      <th>0</th>\n",
              "      <td>1035</td>\n",
              "      <td>20151209</td>\n",
              "      <td>74</td>\n",
              "      <td>15b9ca9c723e6758b94b6bb27a655cb1564266926033d5...</td>\n",
              "    </tr>\n",
              "    <tr>\n",
              "      <th>1</th>\n",
              "      <td>1035</td>\n",
              "      <td>20160219</td>\n",
              "      <td>74</td>\n",
              "      <td>1ffc475571cc0b0a277c025999c513ddd69a77b96fc703...</td>\n",
              "    </tr>\n",
              "    <tr>\n",
              "      <th>2</th>\n",
              "      <td>1062</td>\n",
              "      <td>20180404</td>\n",
              "      <td>80</td>\n",
              "      <td>9192f0dcaee87f1f8071387fac79037b7a40212ac86a25...</td>\n",
              "    </tr>\n",
              "    <tr>\n",
              "      <th>3</th>\n",
              "      <td>1062</td>\n",
              "      <td>20180404</td>\n",
              "      <td>80</td>\n",
              "      <td>08db1dfe18960bc5e785256a12f514a56ff968040dde8a...</td>\n",
              "    </tr>\n",
              "    <tr>\n",
              "      <th>4</th>\n",
              "      <td>1062</td>\n",
              "      <td>20180404</td>\n",
              "      <td>80</td>\n",
              "      <td>3e18fda968b32ddf462c3d2a8f615d63f48e4954e4d352...</td>\n",
              "    </tr>\n",
              "    <tr>\n",
              "      <th>...</th>\n",
              "      <td>...</td>\n",
              "      <td>...</td>\n",
              "      <td>...</td>\n",
              "      <td>...</td>\n",
              "    </tr>\n",
              "    <tr>\n",
              "      <th>2382</th>\n",
              "      <td>981</td>\n",
              "      <td>20170913</td>\n",
              "      <td>66</td>\n",
              "      <td>074cbd7715adb5a0b1acf10b4cfdf8c3a93f3fdecfb1fc...</td>\n",
              "    </tr>\n",
              "    <tr>\n",
              "      <th>2383</th>\n",
              "      <td>981</td>\n",
              "      <td>20171115</td>\n",
              "      <td>67</td>\n",
              "      <td>7414786a9d3a2aaa23860bc7eef1a4b6b49fc5a967104e...</td>\n",
              "    </tr>\n",
              "    <tr>\n",
              "      <th>2384</th>\n",
              "      <td>981</td>\n",
              "      <td>20171115</td>\n",
              "      <td>67</td>\n",
              "      <td>b83239275619ead317d5956489d6cd60902a030ba81dd8...</td>\n",
              "    </tr>\n",
              "    <tr>\n",
              "      <th>2385</th>\n",
              "      <td>981</td>\n",
              "      <td>20180314</td>\n",
              "      <td>67</td>\n",
              "      <td>43b02e9ec1903d32d76ba638447cffa04582fd29045f14...</td>\n",
              "    </tr>\n",
              "    <tr>\n",
              "      <th>2386</th>\n",
              "      <td>981</td>\n",
              "      <td>20180912</td>\n",
              "      <td>67</td>\n",
              "      <td>8fd2a92660d059f5e32d451f65b579c27958a85c4f1520...</td>\n",
              "    </tr>\n",
              "  </tbody>\n",
              "</table>\n",
              "<p>2387 rows × 4 columns</p>\n",
              "</div>"
            ]
          },
          "metadata": {},
          "execution_count": 6
        }
      ]
    }
  ]
}