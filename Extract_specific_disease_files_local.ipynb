{
  "nbformat": 4,
  "nbformat_minor": 0,
  "metadata": {
    "colab": {
      "provenance": [],
      "authorship_tag": "ABX9TyOiKcR8d7tl5fgg2N2m++vi",
      "include_colab_link": true
    },
    "kernelspec": {
      "name": "python3",
      "display_name": "Python 3"
    },
    "language_info": {
      "name": "python"
    }
  },
  "cells": [
    {
      "cell_type": "markdown",
      "metadata": {
        "id": "view-in-github",
        "colab_type": "text"
      },
      "source": [
        "<a href=\"https://colab.research.google.com/github/ykitaguchi77/manipulate_CSV/blob/master/Extract_specific_disease_files_local.ipynb\" target=\"_parent\"><img src=\"https://colab.research.google.com/assets/colab-badge.svg\" alt=\"Open In Colab\"/></a>"
      ]
    },
    {
      "cell_type": "markdown",
      "source": [
        "# 特定の疾患の患者の画像ファイルを、眼位写真Newから抜き出す"
      ],
      "metadata": {
        "id": "vhnDrQekPooV"
      }
    },
    {
      "cell_type": "code",
      "source": [
        "import pandas as pd\n",
        "\n",
        "# shift_jis での読み込みを試みる\n",
        "try:\n",
        "    df = pd.read_csv(\"F:\\●DiseaseInfo_all_connected_20230907.csv\", encoding=\"shift_jis\", header=None)\n",
        "except UnicodeDecodeError:\n",
        "    # cp932 での読み込みを試みる\n",
        "    df = pd.read_csv(\"F:\\●DiseaseInfo_all_connected_20230907.csv\", encoding=\"cp932\", header=None)\n",
        "\n",
        "# 「眼窩腫瘍」あるいは「涙腺腫瘍」が含まれている行を抜き出す\n",
        "filtered_df = df[df.apply(lambda row: row.astype(str).str.contains('眼窩腫瘍|涙腺腫瘍').any(), axis=1)]\n",
        "\n",
        "filtered_df\n",
        "\n",
        "filtered_df.to_csv(r\"D:\\ダウンロード\\filtered_diseases_眼窩腫瘍_涙腺腫瘍.csv\", index=False, header=0, encoding=\"shift_jis\")\n",
        "\n"
      ],
      "metadata": {
        "id": "iUGZshvkN8E-"
      },
      "execution_count": null,
      "outputs": []
    },
    {
      "cell_type": "code",
      "source": [
        "# C列 (2番目のカラム) のデータをリストに変換\n",
        "patient_number_list = filtered_df.iloc[:, 2].tolist()\n",
        "patient_number_list\n"
      ],
      "metadata": {
        "id": "j1Q3w86nPQm1"
      },
      "execution_count": null,
      "outputs": []
    },
    {
      "cell_type": "code",
      "execution_count": null,
      "metadata": {
        "id": "02Y6AJWxKwcr"
      },
      "outputs": [],
      "source": [
        "\"\"\"\n",
        "特定の数字リストに基づいて眼位写真NEW内のファイルをフィルタリングし、マッチするファイルのフルパスをリストに保存\n",
        "\n",
        "\"\"\"\n",
        "\n",
        "import os\n",
        "import re\n",
        "\n",
        "# 1. Create an empty list\n",
        "resulting_files = []\n",
        "\n",
        "# 2. Iterate over all files in the specified directory\n",
        "# Note: This code cannot be run in this environment, but is provided for reference.\n",
        "for filename in os.listdir(\"F:\\\\眼位写真NEW\"):\n",
        "    # 3. Extract the number from the basename\n",
        "    base_name = os.path.basename(filename)\n",
        "    match = re.match(r\"^\\d+\", base_name)\n",
        "    if match:\n",
        "        number = int(match.group(0))\n",
        "        # 4. Check if the number is in the specified list\n",
        "        if number in patient_number_list:\n",
        "            resulting_files.append(os.path.join(\"F:\\\\眼位写真NEW\", filename))\n",
        "\n",
        "# Output the resulting_files list (commented out since we cannot run the os.listdir in this environment)\n",
        "resulting_files\n"
      ]
    },
    {
      "cell_type": "code",
      "source": [
        "def extract_dates_and_years(file_paths):\n",
        "    # 日付を抜き出す\n",
        "    dates = []\n",
        "    for path in file_paths:\n",
        "        date_match = re.search(r'(\\d{8})', path)\n",
        "        if date_match:\n",
        "            dates.append(date_match.group(1))\n",
        "\n",
        "    # 日付から年を抜き出す\n",
        "    years = [date[:4] for date in dates]\n",
        "\n",
        "    return dates, years\n",
        "\n",
        "def filter_files_by_year(file_paths, start_year):\n",
        "    _, years = extract_dates_and_years(file_paths)\n",
        "\n",
        "    # Filtering files based on the year\n",
        "    filtered_files = [file for file, year in zip(file_paths, years) if int(year) >= start_year]\n",
        "\n",
        "    return filtered_files\n",
        "\n",
        "# Filtering the resulting_files list for files from 2017 onwards\n",
        "filtered_files_2017_onwards = filter_files_by_year(resulting_files, 2017)\n",
        "filtered_files_2017_onwards\n"
      ],
      "metadata": {
        "id": "KTA75dhXLp_P"
      },
      "execution_count": null,
      "outputs": []
    },
    {
      "cell_type": "code",
      "source": [
        "len(filtered_files_2017_onwards)"
      ],
      "metadata": {
        "colab": {
          "base_uri": "https://localhost:8080/"
        },
        "id": "WMufadCELrIU",
        "outputId": "7e29bfd7-a5f3-4121-f298-f9db5ebbed9a"
      },
      "execution_count": null,
      "outputs": [
        {
          "output_type": "execute_result",
          "data": {
            "text/plain": [
              "1533"
            ]
          },
          "metadata": {},
          "execution_count": 38
        }
      ]
    },
    {
      "cell_type": "code",
      "source": [
        "from tqdm import tqdm\n",
        "\n",
        "destination_folder = \"F:\\\\眼位写真\\\\眼位写真_眼窩涙腺腫瘍\"\n",
        "\n",
        "# If the folder already exists, delete it\n",
        "if os.path.exists(destination_folder):\n",
        "    shutil.rmtree(destination_folder)\n",
        "os.makedirs(destination_folder)\n",
        "\n",
        "# Copy files to the destination folder with tqdm progress bar\n",
        "for file_path in tqdm(filtered_files_2017_onwards, desc=\"Copying files\"):\n",
        "    shutil.copy(file_path, destination_folder)"
      ],
      "metadata": {
        "colab": {
          "base_uri": "https://localhost:8080/"
        },
        "id": "XonYuV06Nq4q",
        "outputId": "7ba4620a-cb9c-4998-e89d-a338374fe1f0"
      },
      "execution_count": null,
      "outputs": [
        {
          "output_type": "stream",
          "name": "stderr",
          "text": [
            "Copying files: 100%|███████████████████████████████████████████████████████████████| 1533/1533 [00:20<00:00, 74.83it/s]\n"
          ]
        }
      ]
    },
    {
      "cell_type": "markdown",
      "source": [],
      "metadata": {
        "id": "LVdu_WqO85Xj"
      }
    },
    {
      "cell_type": "code",
      "source": [],
      "metadata": {
        "id": "_k_KDHcYGTNG"
      },
      "execution_count": null,
      "outputs": []
    },
    {
      "cell_type": "code",
      "source": [
        "data = []\n",
        "\n",
        "for path in resulting_files:\n",
        "    matches = re.findall(r'(\\d+)-(\\d+)-\\d+-\\d+_(\\w+)\\.', path)\n",
        "    if matches:\n",
        "        row = []\n",
        "        for match in matches[0]:\n",
        "            if match.isdigit():\n",
        "                row.append(int(match))\n",
        "            else:\n",
        "                row.append(match)\n",
        "        data.append(row)\n",
        "\n",
        "df = pd.DataFrame(data, columns=['Patient_num', 'date', 'Hash'])\n",
        "df[['Patient_id', 'Hertel_R', 'Hertel_L']] = None #空の行を追加\n",
        "df = df[['Patient_id', 'Patient_num', 'date', 'Hash', 'Hertel_R', 'Hertel_L']] #並べ替え\n",
        "\n",
        "\n",
        "df"
      ],
      "metadata": {
        "id": "3eBgP2Y_85oK"
      },
      "execution_count": null,
      "outputs": []
    },
    {
      "cell_type": "code",
      "source": [
        "filtered_df"
      ],
      "metadata": {
        "id": "wxS_Es7tCko1"
      },
      "execution_count": null,
      "outputs": []
    },
    {
      "cell_type": "code",
      "source": [
        "# filtered_dfの2列目とdfのPatient_numが一致する場合、\n",
        "# filtered_dfの0列目の内容をdfのPatient_id列に書き込む\n",
        "for index, row in df.iterrows():\n",
        "    matching_rows = filtered_df[filtered_df.iloc[:, 2] == row['Patient_num']]\n",
        "    if not matching_rows.empty:\n",
        "        df.at[index, 'Patient_id'] = \"{:08}\".format(int(matching_rows.iloc[0, 0]))\n",
        "\n",
        "# Drop the 'Hash' column\n",
        "try:\n",
        "    df = df.drop(columns=['Hash'])\n",
        "except:\n",
        "    pass\n",
        "\n",
        "# Drop duplicate rows based on 'Patient_num'\n",
        "df.drop_duplicates(subset=['Patient_num', 'date'], inplace=True)\n",
        "\n",
        "# Sort the dataframe by 'date'\n",
        "df = df.sort_values(by='date')\n",
        "\n",
        "# Sort the dataframe by 'Patient_num'\n",
        "df = df.sort_values(by='Patient_num')\n",
        "\n",
        "\n",
        "\n",
        "# Reset the index\n",
        "df = df.reset_index(drop=True)\n",
        "\n",
        "\n",
        "\n",
        "df\n"
      ],
      "metadata": {
        "colab": {
          "base_uri": "https://localhost:8080/",
          "height": 424
        },
        "id": "ER3NSlY7FYSs",
        "outputId": "e1eeb2ac-ef30-4147-d4b6-8c5a8f6a3779"
      },
      "execution_count": 69,
      "outputs": [
        {
          "output_type": "execute_result",
          "data": {
            "text/plain": [
              "     Patient_id  Patient_num      date Hertel_R Hertel_L\n",
              "0      11194169           14  20190604     None     None\n",
              "1      11194169           14  20190717     None     None\n",
              "2      11194169           14  20200311     None     None\n",
              "3      11194169           14  20190613     None     None\n",
              "4      07955398           55  20020123     None     None\n",
              "...         ...          ...       ...      ...      ...\n",
              "1225   11798971         9767  20210203     None     None\n",
              "1226   11798971         9767  20200108     None     None\n",
              "1227   11798971         9767  20200527     None     None\n",
              "1228   11798971         9767  20200701     None     None\n",
              "1229   11798971         9767  20201007     None     None\n",
              "\n",
              "[1230 rows x 5 columns]"
            ],
            "text/html": [
              "<div>\n",
              "<style scoped>\n",
              "    .dataframe tbody tr th:only-of-type {\n",
              "        vertical-align: middle;\n",
              "    }\n",
              "\n",
              "    .dataframe tbody tr th {\n",
              "        vertical-align: top;\n",
              "    }\n",
              "\n",
              "    .dataframe thead th {\n",
              "        text-align: right;\n",
              "    }\n",
              "</style>\n",
              "<table border=\"1\" class=\"dataframe\">\n",
              "  <thead>\n",
              "    <tr style=\"text-align: right;\">\n",
              "      <th></th>\n",
              "      <th>Patient_id</th>\n",
              "      <th>Patient_num</th>\n",
              "      <th>date</th>\n",
              "      <th>Hertel_R</th>\n",
              "      <th>Hertel_L</th>\n",
              "    </tr>\n",
              "  </thead>\n",
              "  <tbody>\n",
              "    <tr>\n",
              "      <th>0</th>\n",
              "      <td>11194169</td>\n",
              "      <td>14</td>\n",
              "      <td>20190604</td>\n",
              "      <td>None</td>\n",
              "      <td>None</td>\n",
              "    </tr>\n",
              "    <tr>\n",
              "      <th>1</th>\n",
              "      <td>11194169</td>\n",
              "      <td>14</td>\n",
              "      <td>20190717</td>\n",
              "      <td>None</td>\n",
              "      <td>None</td>\n",
              "    </tr>\n",
              "    <tr>\n",
              "      <th>2</th>\n",
              "      <td>11194169</td>\n",
              "      <td>14</td>\n",
              "      <td>20200311</td>\n",
              "      <td>None</td>\n",
              "      <td>None</td>\n",
              "    </tr>\n",
              "    <tr>\n",
              "      <th>3</th>\n",
              "      <td>11194169</td>\n",
              "      <td>14</td>\n",
              "      <td>20190613</td>\n",
              "      <td>None</td>\n",
              "      <td>None</td>\n",
              "    </tr>\n",
              "    <tr>\n",
              "      <th>4</th>\n",
              "      <td>07955398</td>\n",
              "      <td>55</td>\n",
              "      <td>20020123</td>\n",
              "      <td>None</td>\n",
              "      <td>None</td>\n",
              "    </tr>\n",
              "    <tr>\n",
              "      <th>...</th>\n",
              "      <td>...</td>\n",
              "      <td>...</td>\n",
              "      <td>...</td>\n",
              "      <td>...</td>\n",
              "      <td>...</td>\n",
              "    </tr>\n",
              "    <tr>\n",
              "      <th>1225</th>\n",
              "      <td>11798971</td>\n",
              "      <td>9767</td>\n",
              "      <td>20210203</td>\n",
              "      <td>None</td>\n",
              "      <td>None</td>\n",
              "    </tr>\n",
              "    <tr>\n",
              "      <th>1226</th>\n",
              "      <td>11798971</td>\n",
              "      <td>9767</td>\n",
              "      <td>20200108</td>\n",
              "      <td>None</td>\n",
              "      <td>None</td>\n",
              "    </tr>\n",
              "    <tr>\n",
              "      <th>1227</th>\n",
              "      <td>11798971</td>\n",
              "      <td>9767</td>\n",
              "      <td>20200527</td>\n",
              "      <td>None</td>\n",
              "      <td>None</td>\n",
              "    </tr>\n",
              "    <tr>\n",
              "      <th>1228</th>\n",
              "      <td>11798971</td>\n",
              "      <td>9767</td>\n",
              "      <td>20200701</td>\n",
              "      <td>None</td>\n",
              "      <td>None</td>\n",
              "    </tr>\n",
              "    <tr>\n",
              "      <th>1229</th>\n",
              "      <td>11798971</td>\n",
              "      <td>9767</td>\n",
              "      <td>20201007</td>\n",
              "      <td>None</td>\n",
              "      <td>None</td>\n",
              "    </tr>\n",
              "  </tbody>\n",
              "</table>\n",
              "<p>1230 rows × 5 columns</p>\n",
              "</div>"
            ]
          },
          "metadata": {},
          "execution_count": 69
        }
      ]
    },
    {
      "cell_type": "code",
      "source": [
        "df.to_csv(r\"D:\\ダウンロード\\filtered_diseases_眼窩涙腺腫瘍_Hertel.csv\", index=False, header=True, encoding=\"shift_jis\")\n"
      ],
      "metadata": {
        "id": "ABnQCJV0K4Pp"
      },
      "execution_count": 68,
      "outputs": []
    },
    {
      "cell_type": "code",
      "source": [
        "df"
      ],
      "metadata": {
        "colab": {
          "base_uri": "https://localhost:8080/",
          "height": 424
        },
        "id": "RAECckWdpR0-",
        "outputId": "4371bca1-4422-4e31-b6dd-293f748c9e5a"
      },
      "execution_count": 49,
      "outputs": [
        {
          "output_type": "execute_result",
          "data": {
            "text/plain": [
              "     Patient_id  Patient_num      date Hertel_R Hertel_L\n",
              "0      11194169           14  20200311     None     None\n",
              "1      11194169           14  20190604     None     None\n",
              "2      11194169           14  20190613     None     None\n",
              "3      11194169           14  20190717     None     None\n",
              "4      07955398           55  20020205     None     None\n",
              "...         ...          ...       ...      ...      ...\n",
              "1225   11798971         9767  20201007     None     None\n",
              "1226   11798971         9767  20200701     None     None\n",
              "1227   11798971         9767  20200108     None     None\n",
              "1228   11798971         9767  20191108     None     None\n",
              "1229   11798971         9767  20200527     None     None\n",
              "\n",
              "[1230 rows x 5 columns]"
            ],
            "text/html": [
              "<div>\n",
              "<style scoped>\n",
              "    .dataframe tbody tr th:only-of-type {\n",
              "        vertical-align: middle;\n",
              "    }\n",
              "\n",
              "    .dataframe tbody tr th {\n",
              "        vertical-align: top;\n",
              "    }\n",
              "\n",
              "    .dataframe thead th {\n",
              "        text-align: right;\n",
              "    }\n",
              "</style>\n",
              "<table border=\"1\" class=\"dataframe\">\n",
              "  <thead>\n",
              "    <tr style=\"text-align: right;\">\n",
              "      <th></th>\n",
              "      <th>Patient_id</th>\n",
              "      <th>Patient_num</th>\n",
              "      <th>date</th>\n",
              "      <th>Hertel_R</th>\n",
              "      <th>Hertel_L</th>\n",
              "    </tr>\n",
              "  </thead>\n",
              "  <tbody>\n",
              "    <tr>\n",
              "      <th>0</th>\n",
              "      <td>11194169</td>\n",
              "      <td>14</td>\n",
              "      <td>20200311</td>\n",
              "      <td>None</td>\n",
              "      <td>None</td>\n",
              "    </tr>\n",
              "    <tr>\n",
              "      <th>1</th>\n",
              "      <td>11194169</td>\n",
              "      <td>14</td>\n",
              "      <td>20190604</td>\n",
              "      <td>None</td>\n",
              "      <td>None</td>\n",
              "    </tr>\n",
              "    <tr>\n",
              "      <th>2</th>\n",
              "      <td>11194169</td>\n",
              "      <td>14</td>\n",
              "      <td>20190613</td>\n",
              "      <td>None</td>\n",
              "      <td>None</td>\n",
              "    </tr>\n",
              "    <tr>\n",
              "      <th>3</th>\n",
              "      <td>11194169</td>\n",
              "      <td>14</td>\n",
              "      <td>20190717</td>\n",
              "      <td>None</td>\n",
              "      <td>None</td>\n",
              "    </tr>\n",
              "    <tr>\n",
              "      <th>4</th>\n",
              "      <td>07955398</td>\n",
              "      <td>55</td>\n",
              "      <td>20020205</td>\n",
              "      <td>None</td>\n",
              "      <td>None</td>\n",
              "    </tr>\n",
              "    <tr>\n",
              "      <th>...</th>\n",
              "      <td>...</td>\n",
              "      <td>...</td>\n",
              "      <td>...</td>\n",
              "      <td>...</td>\n",
              "      <td>...</td>\n",
              "    </tr>\n",
              "    <tr>\n",
              "      <th>1225</th>\n",
              "      <td>11798971</td>\n",
              "      <td>9767</td>\n",
              "      <td>20201007</td>\n",
              "      <td>None</td>\n",
              "      <td>None</td>\n",
              "    </tr>\n",
              "    <tr>\n",
              "      <th>1226</th>\n",
              "      <td>11798971</td>\n",
              "      <td>9767</td>\n",
              "      <td>20200701</td>\n",
              "      <td>None</td>\n",
              "      <td>None</td>\n",
              "    </tr>\n",
              "    <tr>\n",
              "      <th>1227</th>\n",
              "      <td>11798971</td>\n",
              "      <td>9767</td>\n",
              "      <td>20200108</td>\n",
              "      <td>None</td>\n",
              "      <td>None</td>\n",
              "    </tr>\n",
              "    <tr>\n",
              "      <th>1228</th>\n",
              "      <td>11798971</td>\n",
              "      <td>9767</td>\n",
              "      <td>20191108</td>\n",
              "      <td>None</td>\n",
              "      <td>None</td>\n",
              "    </tr>\n",
              "    <tr>\n",
              "      <th>1229</th>\n",
              "      <td>11798971</td>\n",
              "      <td>9767</td>\n",
              "      <td>20200527</td>\n",
              "      <td>None</td>\n",
              "      <td>None</td>\n",
              "    </tr>\n",
              "  </tbody>\n",
              "</table>\n",
              "<p>1230 rows × 5 columns</p>\n",
              "</div>"
            ]
          },
          "metadata": {},
          "execution_count": 49
        }
      ]
    },
    {
      "cell_type": "code",
      "source": [],
      "metadata": {
        "id": "ZFu_5zq0pSUm"
      },
      "execution_count": null,
      "outputs": []
    }
  ]
}