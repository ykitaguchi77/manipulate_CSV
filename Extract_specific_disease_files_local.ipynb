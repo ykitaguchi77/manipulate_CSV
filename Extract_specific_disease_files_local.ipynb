{
  "nbformat": 4,
  "nbformat_minor": 0,
  "metadata": {
    "colab": {
      "provenance": [],
      "authorship_tag": "ABX9TyN/KkO0MUioHXot/qBZEcIj",
      "include_colab_link": true
    },
    "kernelspec": {
      "name": "python3",
      "display_name": "Python 3"
    },
    "language_info": {
      "name": "python"
    }
  },
  "cells": [
    {
      "cell_type": "markdown",
      "metadata": {
        "id": "view-in-github",
        "colab_type": "text"
      },
      "source": [
        "<a href=\"https://colab.research.google.com/github/ykitaguchi77/manipulate_CSV/blob/master/Extract_specific_disease_files_local.ipynb\" target=\"_parent\"><img src=\"https://colab.research.google.com/assets/colab-badge.svg\" alt=\"Open In Colab\"/></a>"
      ]
    },
    {
      "cell_type": "markdown",
      "source": [
        "# 特定の疾患の患者の画像ファイルを、眼位写真Newから抜き出す"
      ],
      "metadata": {
        "id": "vhnDrQekPooV"
      }
    },
    {
      "cell_type": "code",
      "source": [
        "import pandas as pd\n",
        "\n",
        "# shift_jis での読み込みを試みる\n",
        "try:\n",
        "    df_all = pd.read_csv(\"F:\\●DiseaseInfo_all_connected_20230907.csv\", encoding=\"shift_jis\", header=None)\n",
        "except UnicodeDecodeError:\n",
        "    # cp932 での読み込みを試みる\n",
        "    df_all = pd.read_csv(\"F:\\●DiseaseInfo_all_connected_20230907.csv\", encoding=\"cp932\", header=None)\n",
        "\n",
        "# 「眼窩腫瘍」あるいは「涙腺腫瘍」が含まれている行を抜き出す\n",
        "filtered_df = df_all[df_all.apply(lambda row: row.astype(str).str.contains('眼窩腫瘍|涙腺腫瘍').any(), axis=1)]\n",
        "\n",
        "filtered_df\n",
        "\n",
        "filtered_df.to_csv(r\"D:\\ダウンロード\\filtered_diseases_眼窩腫瘍_涙腺腫瘍.csv\", index=False, header=0, encoding=\"shift_jis\")\n",
        "\n"
      ],
      "metadata": {
        "id": "iUGZshvkN8E-"
      },
      "execution_count": null,
      "outputs": []
    },
    {
      "cell_type": "code",
      "source": [
        "# C列 (2番目のカラム) のデータをリストに変換\n",
        "patient_number_list = filtered_df.iloc[:, 2].tolist()\n",
        "\n",
        "# patient_number_list = [\n",
        "#     465, 1020, 1304, 1396, 1773, 1995, 2941, 3176, 3600, 3684, 3759, 3809,\n",
        "#     4125, 4588, 4939, 5125, 5203, 5299, 5890, 6515, 7049, 7765, 24, 36, 1309,\n",
        "#     2765, 3079, 3146, 3428, 3496, 3832, 4186, 5491, 5541, 5582, 7161, 7397,\n",
        "#     7870, 7987, 1041, 1259, 1483, 1508, 2736, 4388, 4874, 5880, 6269, 6320,\n",
        "#     6654, 6663, 6965, 7025, 7507, 8105, 17, 19, 57, 122, 129, 155, 180, 374,\n",
        "#     385, 425, 426, 429, 466, 489, 507, 533, 534, 555, 611, 718, 724, 782, 787,\n",
        "#     818, 876, 893, 950, 957, 965, 977, 983, 1001, 1037, 1088, 1231, 1270, 1284,\n",
        "#     1313, 1333, 1336, 1347, 1357, 1370, 1378, 1385, 1429, 1432, 1438, 1446, 1453,\n",
        "#     1457, 1501, 1503, 1524, 1525, 1528, 1553, 1597, 1664, 1682, 1729, 1764, 1743,\n",
        "#     1786, 1815, 1841, 1910, 1913, 1931, 2007, 2042, 2148, 2182, 2189, 2203, 2222,\n",
        "#     2231, 2274, 2307, 2321, 2370, 2407, 2414, 2436, 2508, 2510, 2558, 2623, 2630,\n",
        "#     2644, 2658, 2664, 2668, 2670, 2684, 2689, 2709, 2726, 2762, 2794, 2801, 2803,\n",
        "#     2837, 2851, 2853, 2885, 2900, 2960, 2967, 2974, 3046, 3056, 3077, 3128, 3144,\n",
        "#     3162, 3164, 3167, 3209, 3217, 3237, 3264, 3276, 3331, 3352, 3412, 3444, 3472,\n",
        "#     3484, 3502, 3528, 3532, 3543, 3567, 3568, 3609, 3646, 3667, 3695, 3714, 3748,\n",
        "#     3752, 3783, 3802, 3843, 3875, 3918, 3929, 3942, 3976, 4008, 4030, 4069, 4206,\n",
        "#     4209, 4233, 4263, 4272, 4292, 4331, 4332, 4359, 4382, 4344, 4465, 4480, 4485,\n",
        "#     4486, 4540, 4553, 4577, 4606, 4616, 4618, 4619, 4628, 4652, 4681, 4710, 4713,\n",
        "#     4759, 4805, 4813, 4822, 4881, 4921, 4930, 4958, 4993, 4997, 5015, 5021, 5051,\n",
        "#     5069, 5070, 5095, 5310, 5237, 5260, 5273, 5290, 5297, 5323, 5333, 5335, 5337,\n",
        "#     5378, 5397, 5426, 5540, 5543, 5546, 5550, 5551, 5571, 5586, 5607, 5608, 5646,\n",
        "#     5647, 5673, 5681, 5758, 5763, 5768, 5820, 5838, 5865, 5888, 5901, 5906, 5913,\n",
        "#     5965, 5989, 6003, 6074, 6106, 6147, 6150, 6155, 6163, 6277, 6283, 6297, 6298,\n",
        "#     6355, 6432, 6478, 6486, 6489, 6502, 6513, 6518, 6553, 6555, 6579, 6599, 6643,\n",
        "#     6662, 6707, 6725, 6764, 6788, 6806, 6855, 6956, 6989, 7041, 7044, 7077, 7104,\n",
        "#     7166, 7277, 7283, 7291, 7295, 7302, 7346, 7349, 7403, 7419, 7428, 7436, 7443,\n",
        "#     7449, 7455, 7527, 7534, 7552, 7644, 7669, 7681, 7709, 7745, 7763, 7781, 7798,\n",
        "#     7800, 7867, 7874, 7879, 7900, 7936, 8079, 8168, 8184, 8198\n",
        "# ]\n",
        "\n",
        "patient_number_list\n"
      ],
      "metadata": {
        "id": "j1Q3w86nPQm1"
      },
      "execution_count": null,
      "outputs": []
    },
    {
      "cell_type": "code",
      "execution_count": null,
      "metadata": {
        "id": "02Y6AJWxKwcr"
      },
      "outputs": [],
      "source": [
        "\"\"\"\n",
        "特定の数字リストに基づいて眼位写真NEW内のファイルをフィルタリングし、マッチするファイルのフルパスをリストに保存\n",
        "\n",
        "\"\"\"\n",
        "\n",
        "import os\n",
        "import re\n",
        "\n",
        "# 1. Create an empty list\n",
        "resulting_files = []\n",
        "\n",
        "# 2. Iterate over all files in the specified directory\n",
        "# Note: This code cannot be run in this environment, but is provided for reference.\n",
        "for filename in os.listdir(\"F:\\\\眼位写真NEW\"):\n",
        "    # 3. Extract the number from the basename\n",
        "    base_name = os.path.basename(filename)\n",
        "    match = re.match(r\"^\\d+\", base_name)\n",
        "    if match:\n",
        "        number = int(match.group(0))\n",
        "        # 4. Check if the number is in the specified list\n",
        "        if number in patient_number_list:\n",
        "            resulting_files.append(os.path.join(\"F:\\\\眼位写真NEW\", filename))\n",
        "\n",
        "# Output the resulting_files list (commented out since we cannot run the os.listdir in this environment)\n",
        "resulting_files\n"
      ]
    },
    {
      "cell_type": "code",
      "source": [
        "def extract_dates_and_years(file_paths):\n",
        "    # 日付を抜き出す\n",
        "    dates = []\n",
        "    for path in file_paths:\n",
        "        date_match = re.search(r'(\\d{8})', path)\n",
        "        if date_match:\n",
        "            dates.append(date_match.group(1))\n",
        "\n",
        "    # 日付から年を抜き出す\n",
        "    years = [date[:4] for date in dates]\n",
        "\n",
        "    return dates, years\n",
        "\n",
        "def filter_files_by_year(file_paths, start_year):\n",
        "    _, years = extract_dates_and_years(file_paths)\n",
        "\n",
        "    # Filtering files based on the year\n",
        "    filtered_files = [file for file, year in zip(file_paths, years) if int(year) >= start_year]\n",
        "\n",
        "    return filtered_files\n",
        "\n",
        "# Filtering the resulting_files list for files from 2017 onwards\n",
        "filtered_files_2017_onwards = filter_files_by_year(resulting_files, 2017)\n",
        "filtered_files_2017_onwards\n"
      ],
      "metadata": {
        "id": "KTA75dhXLp_P"
      },
      "execution_count": null,
      "outputs": []
    },
    {
      "cell_type": "code",
      "source": [
        "len(filtered_files_2017_onwards)"
      ],
      "metadata": {
        "colab": {
          "base_uri": "https://localhost:8080/"
        },
        "id": "WMufadCELrIU",
        "outputId": "561379d9-8172-428d-d3d5-7c4bae649eb3"
      },
      "execution_count": 75,
      "outputs": [
        {
          "output_type": "execute_result",
          "data": {
            "text/plain": [
              "1430"
            ]
          },
          "metadata": {},
          "execution_count": 75
        }
      ]
    },
    {
      "cell_type": "code",
      "source": [
        "from tqdm import tqdm\n",
        "import shutil\n",
        "\n",
        "destination_folder = \"F:\\\\眼位写真\\\\眼位写真_甲状腺眼症\"\n",
        "\n",
        "# If the folder already exists, delete it\n",
        "if os.path.exists(destination_folder):\n",
        "    shutil.rmtree(destination_folder)\n",
        "os.makedirs(destination_folder)\n",
        "\n",
        "# Copy files to the destination folder with tqdm progress bar\n",
        "for file_path in tqdm(filtered_files_2017_onwards, desc=\"Copying files\"):\n",
        "    shutil.copy(file_path, destination_folder)"
      ],
      "metadata": {
        "colab": {
          "base_uri": "https://localhost:8080/"
        },
        "id": "XonYuV06Nq4q",
        "outputId": "f31b25e3-8b6c-467b-ea88-43abed608f3c"
      },
      "execution_count": 77,
      "outputs": [
        {
          "output_type": "stream",
          "name": "stderr",
          "text": [
            "Copying files: 100%|███████████████████████████████████████████████████████████████| 1430/1430 [04:00<00:00,  5.96it/s]\n"
          ]
        }
      ]
    },
    {
      "cell_type": "markdown",
      "source": [],
      "metadata": {
        "id": "LVdu_WqO85Xj"
      }
    },
    {
      "cell_type": "code",
      "source": [],
      "metadata": {
        "id": "_k_KDHcYGTNG"
      },
      "execution_count": null,
      "outputs": []
    },
    {
      "cell_type": "code",
      "source": [
        "data = []\n",
        "\n",
        "for path in filtered_files_2017_onwards:\n",
        "    matches = re.findall(r'(\\d+)-(\\d+)-\\d+-\\d+_(\\w+)\\.', path)\n",
        "    if matches:\n",
        "        row = []\n",
        "        for match in matches[0]:\n",
        "            if match.isdigit():\n",
        "                row.append(int(match))\n",
        "            else:\n",
        "                row.append(match)\n",
        "        data.append(row)\n",
        "\n",
        "df = pd.DataFrame(data, columns=['Patient_num', 'date', 'Hash'])\n",
        "df[['Patient_id', 'Hertel_R', 'Hertel_L']] = None #空の行を追加\n",
        "df = df[['Patient_id', 'Patient_num', 'date', 'Hash', 'Hertel_R', 'Hertel_L']] #並べ替え\n",
        "\n",
        "\n",
        "df"
      ],
      "metadata": {
        "id": "3eBgP2Y_85oK"
      },
      "execution_count": null,
      "outputs": []
    },
    {
      "cell_type": "code",
      "source": [
        "# filtered_dfの2列目とdfのPatient_numが一致する場合、\n",
        "# filtered_dfの0列目の内容をdfのPatient_id列に書き込む\n",
        "for index, row in df.iterrows():\n",
        "    matching_rows = df_all[df_all.iloc[:, 2] == row['Patient_num']]\n",
        "    if not matching_rows.empty:\n",
        "        df.at[index, 'Patient_id'] = \"{:08}\".format(int(matching_rows.iloc[0, 0]))\n",
        "\n",
        "# Drop the 'Hash' column\n",
        "try:\n",
        "    df = df.drop(columns=['Hash'])\n",
        "except:\n",
        "    pass\n",
        "\n",
        "# Drop duplicate rows based on 'Patient_num'\n",
        "df.drop_duplicates(subset=['Patient_num', 'date'], inplace=True)\n",
        "\n",
        "# Sort the dataframe by 'date'\n",
        "df = df.sort_values(by='date')\n",
        "\n",
        "# Sort the dataframe by 'Patient_num'\n",
        "df = df.sort_values(by='Patient_num')\n",
        "\n",
        "\n",
        "\n",
        "# Reset the index\n",
        "df = df.reset_index(drop=True)\n",
        "\n",
        "\n",
        "\n",
        "df\n"
      ],
      "metadata": {
        "id": "ER3NSlY7FYSs"
      },
      "execution_count": null,
      "outputs": []
    },
    {
      "cell_type": "code",
      "source": [
        "df.to_csv(r\"D:\\ダウンロード\\filtered_diseases_眼窩涙腺腫瘍_Hertel.csv\", index=False, header=True, encoding=\"shift_jis\")\n"
      ],
      "metadata": {
        "id": "ABnQCJV0K4Pp"
      },
      "execution_count": 104,
      "outputs": []
    },
    {
      "cell_type": "code",
      "source": [
        "df"
      ],
      "metadata": {
        "id": "RAECckWdpR0-"
      },
      "execution_count": null,
      "outputs": []
    },
    {
      "cell_type": "code",
      "source": [],
      "metadata": {
        "id": "ZFu_5zq0pSUm"
      },
      "execution_count": null,
      "outputs": []
    }
  ]
}