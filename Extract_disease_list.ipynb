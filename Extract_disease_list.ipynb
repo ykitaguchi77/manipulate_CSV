{
  "nbformat": 4,
  "nbformat_minor": 0,
  "metadata": {
    "colab": {
      "name": "Untitled57.ipynb",
      "provenance": [],
      "authorship_tag": "ABX9TyPVbhWYoqLTzwThqwIbK7kB",
      "include_colab_link": true
    },
    "kernelspec": {
      "name": "python3",
      "display_name": "Python 3"
    },
    "language_info": {
      "name": "python"
    }
  },
  "cells": [
    {
      "cell_type": "markdown",
      "metadata": {
        "id": "view-in-github",
        "colab_type": "text"
      },
      "source": [
        "<a href=\"https://colab.research.google.com/github/ykitaguchi77/manipulate_CSV/blob/master/Extract_disease_list.ipynb\" target=\"_parent\"><img src=\"https://colab.research.google.com/assets/colab-badge.svg\" alt=\"Open In Colab\"/></a>"
      ]
    },
    {
      "cell_type": "markdown",
      "metadata": {
        "id": "yw6II-eaRg8s"
      },
      "source": [
        "#**病名を含むリストを抽出するスクリプト**\n",
        "csvから特定の文字列を含む行を抜き出して保存"
      ]
    },
    {
      "cell_type": "code",
      "metadata": {
        "colab": {
          "base_uri": "https://localhost:8080/"
        },
        "id": "u8ek02J_IDhq",
        "outputId": "704a7f3f-d183-422c-ab98-89bf7ae78a2d"
      },
      "source": [
        "from google.colab import drive\n",
        "drive.mount('/content/drive')"
      ],
      "execution_count": 1,
      "outputs": [
        {
          "output_type": "stream",
          "text": [
            "Mounted at /content/drive\n"
          ],
          "name": "stdout"
        }
      ]
    },
    {
      "cell_type": "code",
      "metadata": {
        "id": "PvOW78OTIR7A"
      },
      "source": [
        "import csv\n",
        "import numpy as np\n",
        "import os\n",
        "import os.path\n",
        "import sys\n",
        "import glob\n",
        "import pandas as pd\n",
        "import codecs\n",
        "\n",
        "byoumei=[\"内反\", \"乱生\"]\n",
        "csv_path = '/content/drive/MyDrive/Deep_learning/Facephoto_LIST/DiseaseInfo_all_connected_all.csv'\n",
        "dst_folder = '/content/drive/MyDrive/Deep_learning/Facephoto_LIST'\n",
        "\n",
        "#各ファイルを開く　※codec errorを回避\n",
        "with codecs.open(csv_path, \"r\", \"utf-8\", \"ignore\") as file:\n",
        "    df = pd.read_csv(file, delimiter=\",\", header=None)\n",
        "\n",
        "#ファイル名設定のための前処理\n",
        "byoumei_filename = byoumei[0]\n",
        "j=1\n",
        "for i in range(len(byoumei)-1):\n",
        "    byoumei_filename = byoumei_filename + '.' + byoumei[j]\n",
        "    j+=1\n",
        "dst_path = dst_path + \"/Disease_extracted_\" + byoumei_filename+ \".csv\""
      ],
      "execution_count": 42,
      "outputs": []
    },
    {
      "cell_type": "markdown",
      "metadata": {
        "id": "LpafiX8VRZ1L"
      },
      "source": [
        "#**病名を含むリストを抽出**"
      ]
    },
    {
      "cell_type": "code",
      "metadata": {
        "colab": {
          "base_uri": "https://localhost:8080/"
        },
        "id": "l8JMcW1XI5n5",
        "outputId": "87fc3a51-58da-4f99-cd52-0414e15e9a33"
      },
      "source": [
        "list=pd.DataFrame({}) #空のリストを定義\n",
        "\n",
        "for i in byoumei:\n",
        "    for j in range(df.shape[1]):  #それぞれの列に対して検索をかける\n",
        "        extract = df[df[j].astype(str).str.contains(i, na=False)] #数字、naに関するエラーを回避\n",
        "        list = list.append(extract)\n",
        "\n",
        "#重複した行を削除\n",
        "list = list[~list.duplicated()]\n",
        "#番号順に並び替え\n",
        "list = list.sort_values([2]) #[2]は列番号\n",
        "\n",
        "print(str(len(list))+\"例抽出されました！\")"
      ],
      "execution_count": 44,
      "outputs": [
        {
          "output_type": "stream",
          "text": [
            "423例抽出されました！\n"
          ],
          "name": "stdout"
        }
      ]
    },
    {
      "cell_type": "markdown",
      "metadata": {
        "id": "604f9rr4RSot"
      },
      "source": [
        "#**抽出したファイルを出力**"
      ]
    },
    {
      "cell_type": "code",
      "metadata": {
        "id": "cpg6KJvgLh_k"
      },
      "source": [
        "list.to_csv(dst_path, encoding='utf_8_sig', index = False, header=False)"
      ],
      "execution_count": 45,
      "outputs": []
    }
  ]
}