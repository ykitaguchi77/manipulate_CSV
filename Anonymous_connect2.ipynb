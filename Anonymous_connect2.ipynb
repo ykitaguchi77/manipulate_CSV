{
  "nbformat": 4,
  "nbformat_minor": 0,
  "metadata": {
    "colab": {
      "name": "Untitled55.ipynb",
      "provenance": [],
      "include_colab_link": true
    },
    "kernelspec": {
      "name": "python3",
      "display_name": "Python 3"
    },
    "language_info": {
      "name": "python"
    }
  },
  "cells": [
    {
      "cell_type": "markdown",
      "metadata": {
        "id": "view-in-github",
        "colab_type": "text"
      },
      "source": [
        "<a href=\"https://colab.research.google.com/github/ykitaguchi77/manipulate_CSV/blob/master/Anonymous_connect2.ipynb\" target=\"_parent\"><img src=\"https://colab.research.google.com/assets/colab-badge.svg\" alt=\"Open In Colab\"/></a>"
      ]
    },
    {
      "cell_type": "markdown",
      "metadata": {
        "id": "YlZwtv8q1bB4"
      },
      "source": [
        "#**匿名データの連結**\n",
        "\n",
        "【やること】<br>\n",
        "\n",
        "PatientInfoのリストに、IDMapファイルを用いてIDを連結<br>\n",
        "さらにDiseaseInfoファイルから病名を連結<br>\n",
        "DiseaseInfo_all_connectedに含まれていないリストのみを抜粋して通し番号をつける"
      ]
    },
    {
      "cell_type": "code",
      "metadata": {
        "colab": {
          "base_uri": "https://localhost:8080/"
        },
        "id": "DuD5OzYXs4CT",
        "outputId": "afeae815-b10d-4fbf-d75e-6d7988d273b3"
      },
      "source": [
        "from google.colab import drive\n",
        "drive.mount('/content/drive')"
      ],
      "execution_count": 1,
      "outputs": [
        {
          "output_type": "stream",
          "text": [
            "Mounted at /content/drive\n"
          ],
          "name": "stdout"
        }
      ]
    },
    {
      "cell_type": "markdown",
      "metadata": {
        "id": "A8FenzKH2X9m"
      },
      "source": [
        "#**各CSVファイルを開く**"
      ]
    },
    {
      "cell_type": "code",
      "metadata": {
        "id": "7OsmJBRfwtTI"
      },
      "source": [
        "import csv\n",
        "import numpy as np\n",
        "import os\n",
        "import os.path\n",
        "import sys\n",
        "import glob\n",
        "import pandas as pd\n",
        "import codecs\n",
        "\n",
        "\n",
        "\n",
        "disease_path = '/content/drive/MyDrive/Deep_learning/Facephoto_LIST/DiseaseInfo.csv'\n",
        "patient_path = '/content/drive/MyDrive/Deep_learning/Facephoto_LIST/PatientInfo.csv'\n",
        "connect_path = '/content/drive/MyDrive/Deep_learning/Facephoto_LIST/ZZZ_IDMap_20210709192453.csv'\n",
        "previous_path = '/content/drive/MyDrive/Deep_learning/Facephoto_LIST/DiseaseInfo_all_connected.csv'\n",
        "dst_path = '/content/drive/MyDrive/Deep_learning/Facephoto_LIST/DiseaseInfo_all_connected_new2.csv'\n",
        "\n",
        "#最大表示列数の指定（ここでは50列を指定）\n",
        "pd.set_option('display.max_columns', 50)\n",
        "pd.set_option('display.max_rows', 50)\n",
        "\n",
        "\n",
        "#各ファイルを開く　※codec errorを回避\n",
        "with codecs.open(disease_path, \"r\", \"utf-8\", \"ignore\") as file:\n",
        "    df_data_disease = pd.read_csv(file, delimiter=\",\", header=None)\n",
        "\n",
        "with codecs.open(patient_path, \"r\", \"utf-8\", \"ignore\") as file:\n",
        "    df_data_patient = pd.read_csv(file, delimiter=\",\", header=None)\n",
        "    Hushed_ID_list = df_data_patient.iloc[1:,0].tolist()\n",
        "    for i in range(len(Hushed_ID_list)):\n",
        "        Hushed_ID_list[i] = Hushed_ID_list[i].split(\"\\t\")[0]\n",
        "\n",
        "\n",
        "with codecs.open(connect_path, \"r\", \"utf-8\", \"ignore\") as file:\n",
        "    df_data_connect = pd.read_csv(file, delimiter=\",\", header=None)\n",
        "\n",
        "with codecs.open(previous_path, \"r\", \"utf-8\", \"ignore\") as file:\n",
        "    df_data_previous = pd.read_csv(file, delimiter=\",\", header=None)\n",
        "\n",
        "#print(df_data_previous)\n",
        "print(\"ppp\")\n",
        "print(Hushed_ID_list)"
      ],
      "execution_count": null,
      "outputs": []
    },
    {
      "cell_type": "markdown",
      "metadata": {
        "id": "dLNkcDFc2dPu"
      },
      "source": [
        "#**新しいCSVファイルを作成**"
      ]
    },
    {
      "cell_type": "code",
      "metadata": {
        "id": "jSHxOXpR22mW"
      },
      "source": [
        "#空のデータフレームを作成\n",
        "#df_newList = pd.DataFrame(index=df_data_patient.index, columns=[]) #PatientInfoからindexのみを抜き出した空のデータフレーム\n",
        "df_newList = pd.DataFrame(columns=['ID', 'Hushed_ID', 'img_num','age','gender', '1', '2', '3', '4', '5', '6', '7', '8', '9', '10','11', '12', '13', '14', '15', '16', '17', '18', '19', '20'])\n",
        "\n",
        "k=0\n",
        "for i in Hushed_ID_list:\n",
        "    print(i)\n",
        "    df_data_connect[df_data_connect.iloc[0:,2] == i].iloc[0,0]\n",
        "    id = df_data_connect[df_data_connect.iloc[0:,2] == i].iloc[0,0] #IDMapよりIDを抜き出す\n",
        "    age = df_data_patient[df_data_patient.iloc[0:,0] == i].iloc[0,4] #PatientInfoより年齢を抜き出し（スペースよりうしろは削除）\n",
        "    gender = df_data_patient[df_data_patient.iloc[0:,0] == i].iloc[0,2] #PatientInfoより性別を抜き出し（スペースよりうしろは削除）\n",
        "    disease = list(set(df_data_disease[df_data_disease.iloc[0:,0] == i].iloc[:,3].tolist())) #DiseaseInfoより病名を抜き出す(リスト化して重複を削除）\n",
        "    \n",
        "    #病名リストの長さを20に揃える\n",
        "    if len(disease) > 20:\n",
        "        disease = disease[0:20]\n",
        "    else:\n",
        "        disease = disease + [\"\"]*(20-len(disease))\n",
        "\n",
        "    newRow = [int(id), str(i), \"\", age, gender] + disease  #リストを結合\n",
        "    print(k)\n",
        "    print(newRow)\n",
        "    df_newList.loc[k] = newRow #結合したリストを行に追加\n",
        "    k+=1\n"
      ],
      "execution_count": null,
      "outputs": []
    },
    {
      "cell_type": "code",
      "metadata": {
        "id": "lpGfnIMxZahm"
      },
      "source": [
        "#以前のリストに含まれるIDを除外したもの\n",
        "df_newPatientList = df_newList[~df_newList.iloc[0:,0].isin(df_data_previous.iloc[0:,0])]\n",
        "#通し番号を記載（以前のものが8210までだったので、それ以降）\n",
        "df_newPatientList.iloc[:,2] = list(range(8211, 8211+len(df_newPatientList),1))\n",
        "\n",
        "#以前のリストに含まれるIDが含まれるもの\n",
        "df_oldPatientList = df_newList[df_newList.iloc[0:,0].isin(df_data_previous.iloc[0:,0])]\n",
        "#以前の通し番号をIDを参照して転載（8210まで）\n",
        "oldPatientID = list(df_oldPatientList.iloc[:,0])\n",
        "for i in range(len(df_oldPatientList)):\n",
        "    id = df_oldPatientList.iloc[i,0]\n",
        "    number = df_data_previous[df_data_previous.iloc[:,0] == id].iloc[0,2]\n",
        "    df_oldPatientList.iloc[i,2] = number"
      ],
      "execution_count": null,
      "outputs": []
    },
    {
      "cell_type": "code",
      "metadata": {
        "id": "2wB3ifMwieWZ"
      },
      "source": [
        "df_PatientList = pd.concat([df_oldPatientList, df_newPatientList])"
      ],
      "execution_count": 27,
      "outputs": []
    },
    {
      "cell_type": "markdown",
      "metadata": {
        "id": "lLNWZeHYb3ZP"
      },
      "source": [
        "#**CSVを保存**"
      ]
    },
    {
      "cell_type": "code",
      "metadata": {
        "id": "e92rM0G1XEUL"
      },
      "source": [
        "df_PatientList.to_csv(dst_path, encoding='utf_8_sig', header=False, index = False)"
      ],
      "execution_count": 28,
      "outputs": []
    }
  ]
}