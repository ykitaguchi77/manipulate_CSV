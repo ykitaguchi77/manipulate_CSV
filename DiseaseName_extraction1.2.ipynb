{
  "nbformat": 4,
  "nbformat_minor": 0,
  "metadata": {
    "colab": {
      "name": "Untitled59.ipynb",
      "provenance": [],
      "include_colab_link": true
    },
    "kernelspec": {
      "name": "python3",
      "display_name": "Python 3"
    },
    "language_info": {
      "name": "python"
    }
  },
  "cells": [
    {
      "cell_type": "markdown",
      "metadata": {
        "id": "view-in-github",
        "colab_type": "text"
      },
      "source": [
        "<a href=\"https://colab.research.google.com/github/ykitaguchi77/manipulate_CSV/blob/master/DiseaseName_extraction1.2.ipynb\" target=\"_parent\"><img src=\"https://colab.research.google.com/assets/colab-badge.svg\" alt=\"Open In Colab\"/></a>"
      ]
    },
    {
      "cell_type": "markdown",
      "metadata": {
        "id": "aoXy5R2QV7MO"
      },
      "source": [
        "#**病名を含むリストを抽出するスクリプト**\n",
        "csvから特定の文字列を含む行を抜き出して保存"
      ]
    },
    {
      "cell_type": "code",
      "metadata": {
        "id": "gr7Q2Jy8V6qG",
        "outputId": "8ec3d328-46c6-4790-c3fd-53e4956bf9aa",
        "colab": {
          "base_uri": "https://localhost:8080/"
        }
      },
      "source": [
        "from google.colab import drive\n",
        "drive.mount('/content/drive')"
      ],
      "execution_count": 1,
      "outputs": [
        {
          "output_type": "stream",
          "name": "stdout",
          "text": [
            "Mounted at /content/drive\n"
          ]
        }
      ]
    },
    {
      "cell_type": "markdown",
      "source": [
        "## 使用方法の概要\n",
        "\n",
        "   - `byoumei`リストに抽出したい疾病名を追加。\n",
        "   - 必要に応じて`age_range`を設定。\n",
        "\n",
        "\n",
        "このスクリプトを活用することで、特定の疾病に関連するデータを効率的に抽出・整理し、分析やレポート作成に役立てることができます。\n"
      ],
      "metadata": {
        "id": "18rqlLEXz7Lr"
      }
    },
    {
      "cell_type": "code",
      "metadata": {
        "id": "vBwzMI-JWDBz",
        "outputId": "07b22453-2474-476b-f887-f7fd0b7b7466",
        "colab": {
          "base_uri": "https://localhost:8080/"
        }
      },
      "source": [
        "import csv\n",
        "import numpy as np\n",
        "import os\n",
        "import os.path\n",
        "import sys\n",
        "import glob\n",
        "import pandas as pd\n",
        "import codecs\n",
        "\n",
        "age_range = []  # Age range as a list ex, [0,10]\n",
        "byoumei=['眼窩脂肪ヘルニア']\n",
        "csv_path = '/content/drive/MyDrive/Deep_learning/●DiseaseInfo_modified1.5_connected_9800.csv'\n",
        "dst_folder = '/content/'\n",
        "\n",
        "#各ファイルを開く　※codec errorを回避\n",
        "#with codecs.open(csv_path, \"r\", \"utf-8\", \"ignore\") as file:\n",
        "with codecs.open(csv_path, \"r\", \"shift_jis\", \"ignore\") as file:\n",
        "    df = pd.read_csv(file, delimiter=\",\", header=None)\n",
        "#print(df)\n",
        "\n",
        "#ファイル名設定のための前処理\n",
        "byoumei_filename = byoumei[0]\n",
        "j=1\n",
        "for i in range(len(byoumei)-1):\n",
        "    byoumei_filename = byoumei_filename + '.' + byoumei[j]\n",
        "    j+=1\n",
        "\n",
        "# 年齢の制約があればファイル名に含める\n",
        "if age_range:\n",
        "    age_range_str = f\"{age_range[0]}-{age_range[1]}\"\n",
        "    dst_path = dst_folder + \"/Disease_extracted_\" + byoumei_filename + f\"_age_{age_range_str}.csv\"\n",
        "else:\n",
        "    dst_path = dst_folder + \"/Disease_extracted_\" + byoumei_filename + \".csv\"\n",
        "\n",
        "\n",
        "result_list=pd.DataFrame({}) #空のリストを定義\n",
        "\n",
        "for i in byoumei:\n",
        "    for j in range(df.shape[1]):  #それぞれの列に対して検索をかける\n",
        "        extract = df[df[j].astype(str).str.contains(i, na=False)] #数字、naに関するエラーを回避\n",
        "        result_list = pd.concat([result_list, extract])\n",
        "\n",
        "\n",
        "#重複した行を削除\n",
        "result_list = result_list[~result_list.duplicated()]\n",
        "\n",
        "# Type casting first\n",
        "result_list.loc[:, 0] = result_list.loc[:, 0].astype('int')\n",
        "result_list.loc[:, 2] = result_list.loc[:, 2].astype('int')\n",
        "\n",
        "# Filter and sort by age, then by patient number\n",
        "if age_range:  # Check if age_range is not empty\n",
        "    result_list = result_list[\n",
        "        (result_list[4] >= age_range[0]) & (result_list[4] <= age_range[1])\n",
        "    ].sort_values(by=[2], ascending=True).reset_index(drop=True)\n",
        "else:  # If age_range is empty, skip age filtering\n",
        "    result_list = result_list.sort_values(by=[2], ascending=True).reset_index(drop=True)\n",
        "\n",
        "print(str(len(result_list))+\"例抽出されました！\")\n",
        "\n",
        "#result_list\n",
        "\n",
        "### 抽出したファイルを出力\n",
        "result_list.to_csv(dst_path, encoding='utf_8_sig', index = False, header=False)"
      ],
      "execution_count": 5,
      "outputs": [
        {
          "output_type": "stream",
          "name": "stderr",
          "text": [
            "<ipython-input-5-fb4b309aeb38>:18: DtypeWarning: Columns (2,6,7,8,9,10,11,12,13,14,15,16,17,18,19,20,21,22,43,45,46,48,49,50,51,52,53,54,55,56,57,58,59,60,61,62,63,64,65,66,67,68,69,70,71,72,73,74,75,76,77,78,79,80,81,82,83,84,85,88,89,101,103,104,105,106,107,108,109,110,117,119,120,124,131,133,134,135,136,137) have mixed types. Specify dtype option on import or set low_memory=False.\n",
            "  df = pd.read_csv(file, delimiter=\",\", header=None)\n"
          ]
        },
        {
          "output_type": "stream",
          "name": "stdout",
          "text": [
            "21例抽出されました！\n"
          ]
        }
      ]
    }
  ]
}