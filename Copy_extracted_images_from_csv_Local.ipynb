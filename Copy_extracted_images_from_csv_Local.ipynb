{
  "nbformat": 4,
  "nbformat_minor": 0,
  "metadata": {
    "colab": {
      "provenance": [],
      "authorship_tag": "ABX9TyNt5kbcZJLf/ywEhjZlEdan",
      "include_colab_link": true
    },
    "kernelspec": {
      "name": "python3",
      "display_name": "Python 3"
    },
    "language_info": {
      "name": "python"
    }
  },
  "cells": [
    {
      "cell_type": "markdown",
      "metadata": {
        "id": "view-in-github",
        "colab_type": "text"
      },
      "source": [
        "<a href=\"https://colab.research.google.com/github/ykitaguchi77/manipulate_CSV/blob/master/Copy_extracted_images_from_csv_Local.ipynb\" target=\"_parent\"><img src=\"https://colab.research.google.com/assets/colab-badge.svg\" alt=\"Open In Colab\"/></a>"
      ]
    },
    {
      "cell_type": "markdown",
      "source": [
        "\n",
        "\n",
        "# **Copy extracted image from csv file**\n",
        "\n",
        "• CSVファイルから患者のIDを抽出します。\n",
        "\n",
        "• 抽出した情報に基づいて、指定されたディレクトリから画像ファイルを検索します。\n",
        "\n",
        "• 見つかった画像ファイルを新しく作成したフォルダにコピーします。\n"
      ],
      "metadata": {
        "id": "IC17ZNXF4tBD"
      }
    },
    {
      "cell_type": "code",
      "execution_count": null,
      "metadata": {
        "id": "McQkTLpR4oPF"
      },
      "outputs": [],
      "source": [
        "# 必要なライブラリをインポート\n",
        "import os\n",
        "import shutil\n",
        "import csv\n",
        "import tqdm\n",
        "\n",
        "# CSVファイルから情報を抽出\n",
        "def extract_csv_info(csv_path):\n",
        "    with open(csv_path, 'r', encoding='utf-8') as csv_file:\n",
        "        # CSVの3列目（インデックス2）の値を抽出し、ヘッダー行を除外\n",
        "        return [row[2] for row in csv.reader(csv_file) if len(row) >= 3][1:]\n",
        "\n",
        "# 指定されたディレクトリから画像ファイルのパスを見つける関数\n",
        "def find_image_paths(img_dir, extracted_numbers):\n",
        "    image_paths = {}\n",
        "    for root, _, files in os.walk(img_dir):\n",
        "        for file in tqdm.tqdm(files, desc=\"ファイル処理中\"):\n",
        "            # 画像ファイルの拡張子をチェック\n",
        "            if file.lower().endswith(('.png', '.jpg', '.jpeg', '.gif', '.bmp')):\n",
        "                file_name, _ = os.path.splitext(file)\n",
        "                file_parts = file_name.split('-')\n",
        "                file_number = file_parts[0]\n",
        "                # 抽出された番号と一致する画像を見つける\n",
        "                if file_number in extracted_numbers:\n",
        "                    current_path = os.path.join(root, file)\n",
        "                    # 同じ番号の画像が複数ある場合、番号が小さい方を選択\n",
        "                    if file_number not in image_paths or (len(file_parts) > 1 and int(file_parts[1]) < int(image_paths[file_number].split('-')[1])):\n",
        "                        image_paths[file_number] = current_path\n",
        "    return list(image_paths.values())\n",
        "\n",
        "# 画像をコピーする関数\n",
        "def copy_images(image_paths, destination_folder):\n",
        "    for image_path in tqdm.tqdm(image_paths, desc=\"画像コピー中\"):\n",
        "        shutil.copy(image_path, os.path.join(destination_folder, os.path.basename(image_path)))\n",
        "\n",
        "# メイン関数\n",
        "def main():\n",
        "    # 各種パスを設定\n",
        "    img_dir = \"F:\\眼位写真NEW\"\n",
        "    extract_csv_path = r\"C:\\Users\\ykita\\OneDrive\\デスクトップ\\test_images\\Disease_extracted_眼瞼下垂.csv\"\n",
        "    copy_dir = r\"C:\\Users\\ykita\\OneDrive\\デスクトップ\\test_images\"\n",
        "\n",
        "        # 新しいフォルダ名を生成し、作成\n",
        "    csv_basename = os.path.splitext(os.path.basename(extract_csv_path).replace(\"Disease_extracted_\", \"\"))[0]\n",
        "    new_folder_path = os.path.join(copy_dir, csv_basename)\n",
        "    print(f\"作成しようとしているフォルダのパス: {new_folder_path}\")\n",
        "\n",
        "    try:\n",
        "        os.makedirs(new_folder_path, exist_ok=True)\n",
        "        print(f\"フォルダが正常に作成されました: {new_folder_path}\")\n",
        "    except Exception as e:\n",
        "        print(f\"フォルダの作成中にエラーが発生しました: {e}\")\n",
        "        return\n",
        "\n",
        "    if not os.path.exists(new_folder_path):\n",
        "        print(f\"エラー: フォルダ {new_folder_path} が作成されませんでした。\")\n",
        "        return\n",
        "\n",
        "    # CSVから情報を抽出し、該当する画像を見つけてコピー\n",
        "    extracted_numbers = extract_csv_info(extract_csv_path)\n",
        "    image_paths = find_image_paths(img_dir, extracted_numbers)\n",
        "    copy_images(image_paths, new_folder_path)\n",
        "\n",
        "    # 処理完了メッセージを表示\n",
        "    print(f\"コピーが完了しました。{len(image_paths)}個の画像が{new_folder_path}にコピーされました。\")\n",
        "\n",
        "# スクリプトが直接実行された場合にメイン関数を呼び出す\n",
        "if __name__ == \"__main__\":\n",
        "    main()\n"
      ]
    },
    {
      "cell_type": "markdown",
      "source": [
        "###一括で行うバージョン"
      ],
      "metadata": {
        "id": "KUKMzhbS5Brx"
      }
    },
    {
      "cell_type": "code",
      "source": [
        "# 必要なライブラリをインポート\n",
        "import os\n",
        "import shutil\n",
        "import csv\n",
        "import tqdm\n",
        "import glob\n",
        "\n",
        "# CSVファイルから情報を抽出\n",
        "def extract_csv_info(csv_path):\n",
        "    with open(csv_path, 'r', encoding='utf-8') as csv_file:\n",
        "        # CSVの3列目（インデックス2）の値を抽出し、ヘッダー行を除外\n",
        "        return [row[2] for row in csv.reader(csv_file) if len(row) >= 3][1:]\n",
        "\n",
        "# 指定されたディレクトリから画像ファイルのパスを見つける関数\n",
        "def find_image_paths(img_dir, extracted_numbers):\n",
        "    image_paths = {}\n",
        "    for root, _, files in os.walk(img_dir):\n",
        "        for file in tqdm.tqdm(files, desc=\"ファイル処理中\"):\n",
        "            # 画像ファイルの拡張子をチェック\n",
        "            if file.lower().endswith(('.png', '.jpg', '.jpeg', '.gif', '.bmp')):\n",
        "                file_name, _ = os.path.splitext(file)\n",
        "                file_parts = file_name.split('-')\n",
        "                file_number = file_parts[0]\n",
        "                # 抽出された番号と一致する画像を見つける\n",
        "                if file_number in extracted_numbers:\n",
        "                    current_path = os.path.join(root, file)\n",
        "                    # 同じ番号の画像が複数ある場合、番号が小さい方を選択\n",
        "                    if file_number not in image_paths or (len(file_parts) > 1 and int(file_parts[1]) < int(image_paths[file_number].split('-')[1])):\n",
        "                        image_paths[file_number] = current_path\n",
        "    return list(image_paths.values())\n",
        "\n",
        "# 画像をコピーする関数\n",
        "def copy_images(image_paths, destination_folder):\n",
        "    for image_path in tqdm.tqdm(image_paths, desc=\"画像コピー中\"):\n",
        "        shutil.copy(image_path, os.path.join(destination_folder, os.path.basename(image_path)))\n",
        "\n",
        "# メイン関数\n",
        "def main():\n",
        "    # 各種パスを設定\n",
        "    img_dir = \"F:\\眼位写真NEW\"\n",
        "    csv_dir = r\"C:\\Users\\ykita\\OneDrive\\デスクトップ\\test_images\"\n",
        "    copy_dir = r\"C:\\Users\\ykita\\OneDrive\\デスクトップ\\test_images\"\n",
        "\n",
        "    # \"Disease_extracted_\"で始まるCSVファイルを探す\n",
        "    csv_files = glob.glob(os.path.join(csv_dir, \"Disease_extracted_*.csv\"))\n",
        "\n",
        "    for extract_csv_path in csv_files:\n",
        "        # 新しいフォルダ名を生成し、作成\n",
        "        csv_basename = os.path.splitext(os.path.basename(extract_csv_path).replace(\"Disease_extracted_\", \"\"))[0]\n",
        "        new_folder_path = os.path.join(copy_dir, csv_basename)\n",
        "        print(f\"作成しようとしているフォルダのパス: {new_folder_path}\")\n",
        "\n",
        "        try:\n",
        "            os.makedirs(new_folder_path, exist_ok=True)\n",
        "            print(f\"フォルダが正常に作成されました: {new_folder_path}\")\n",
        "        except Exception as e:\n",
        "            print(f\"フォルダの作成中にエラーが発生しました: {e}\")\n",
        "            continue\n",
        "\n",
        "        if not os.path.exists(new_folder_path):\n",
        "            print(f\"エラー: フォルダ {new_folder_path} が作成されませんでした。\")\n",
        "            continue\n",
        "\n",
        "        # CSVから情報を抽出し、該当する画像を見つけてコピー\n",
        "        extracted_numbers = extract_csv_info(extract_csv_path)\n",
        "        image_paths = find_image_paths(img_dir, extracted_numbers)\n",
        "        copy_images(image_paths, new_folder_path)\n",
        "\n",
        "        # 処理完了メッセージを表示\n",
        "        print(f\"コピーが完了しました。{len(image_paths)}個の画像が{new_folder_path}にコピーされました。\")\n",
        "\n",
        "# スクリプトが直接実行された場合にメイン関数を呼び出す\n",
        "if __name__ == \"__main__\":\n",
        "    main()\n"
      ],
      "metadata": {
        "id": "Vff_cmSm5A5Z"
      },
      "execution_count": null,
      "outputs": []
    },
    {
      "cell_type": "code",
      "source": [],
      "metadata": {
        "id": "K5-zNyM74sv0"
      },
      "execution_count": null,
      "outputs": []
    }
  ]
}