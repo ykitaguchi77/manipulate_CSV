{
  "nbformat": 4,
  "nbformat_minor": 0,
  "metadata": {
    "colab": {
      "name": "Untitled63.ipynb",
      "provenance": [],
      "include_colab_link": true
    },
    "kernelspec": {
      "name": "python3",
      "display_name": "Python 3"
    }
  },
  "cells": [
    {
      "cell_type": "markdown",
      "metadata": {
        "id": "view-in-github",
        "colab_type": "text"
      },
      "source": [
        "<a href=\"https://colab.research.google.com/github/ykitaguchi77/manipulate_CSV/blob/master/%E5%85%88%E5%A4%A9%E6%80%A7Gla_CSV%E3%81%A7%E4%B8%80%E8%87%B4%E3%81%99%E3%82%8B%E3%82%AB%E3%83%A9%E3%83%A0%E3%82%92%E5%8F%82%E7%85%A7%E3%81%97%E3%81%A6%E3%82%B3%E3%83%94%E3%83%BC.ipynb\" target=\"_parent\"><img src=\"https://colab.research.google.com/assets/colab-badge.svg\" alt=\"Open In Colab\"/></a>"
      ]
    },
    {
      "cell_type": "code",
      "metadata": {
        "id": "98xd9oXBglXT",
        "colab": {
          "base_uri": "https://localhost:8080/"
        },
        "outputId": "3ddea2cb-c856-474a-ecc2-fc1ef5abf25f"
      },
      "source": [
        "#google driveをcolabolatoryにマウント\n",
        "from google.colab import drive\n",
        "drive.mount('/content/drive')"
      ],
      "execution_count": 1,
      "outputs": [
        {
          "output_type": "stream",
          "text": [
            "Mounted at /content/drive\n"
          ],
          "name": "stdout"
        }
      ]
    },
    {
      "cell_type": "code",
      "metadata": {
        "id": "2WKArVad3Coj",
        "colab": {
          "base_uri": "https://localhost:8080/"
        },
        "outputId": "d2739233-f6f9-49c5-ea69-47fc35cf7a7e"
      },
      "source": [
        "import pandas as pd\n",
        "pd.set_option('display.max_columns', 10)\n",
        "\n",
        "\n",
        "def openCSV(csv_path):\n",
        "    df = pd.read_csv(csv_path, encoding=\"shift-jis\")\n",
        "    #df = df.drop(df.columns[[0]], axis=1) #1列目を削除する\n",
        "    print(df)\n",
        "    return df\n",
        "\n",
        "#CSVを開く （csv1:編集するファイル、csv2:参照するファイル）\n",
        "csv1_path = '/content/drive/MyDrive/進行中の研究/先天性緑内障プロジェクト/先天性緑内障.csv'\n",
        "csv2_path = '/content/drive/MyDrive/進行中の研究/先天性緑内障プロジェクト/●DiseaseInfo_modified1.2_connected.csv'\n",
        "\n",
        "df1, df2 = openCSV(csv1_path), openCSV(csv2_path) #CSVを開く"
      ],
      "execution_count": null,
      "outputs": [
        {
          "output_type": "stream",
          "text": [
            "     Unnamed: 0        id Unnamed: 2 Unnamed: 3    Unnamed: 4 Unnamed: 5  \\\n",
            "0          32.0   8371461          女         松下  followなし 無投薬        NaN   \n",
            "1          33.0   9243553          女         松下      followなし        NaN   \n",
            "2          34.0  10027421          女         松下     2010/5/19        NaN   \n",
            "3          35.0   7213745          男         松下     2010/3/31        NaN   \n",
            "4          36.0  10995358        NaN         松下     2015/5/25        NaN   \n",
            "..          ...       ...        ...        ...           ...        ...   \n",
            "106       135.0  10581838          女         松下           NaN        NaN   \n",
            "107       136.0   9516680          男         松下         39843         なし   \n",
            "108       137.0  11885551          男         松下         43986         あり   \n",
            "109       138.0  10767701          男         松下         43523         あり   \n",
            "110       139.0  11059336          男         松下         42271         なし   \n",
            "\n",
            "    Unnamed: 6 Unnamed: 7 Unnamed: 8 Unnamed: 9  \n",
            "0          NaN        NaN  2004/1/29        NaN  \n",
            "1          NaN        NaN  2007/10/2        NaN  \n",
            "2          NaN        NaN   2010/5/6          左  \n",
            "3          NaN        NaN  1998/9/28        NaN  \n",
            "4          NaN        NaN  1964/4/23        NaN  \n",
            "..         ...        ...        ...        ...  \n",
            "106        NaN         なし      40027          両  \n",
            "107        NaN         なし      38765          両  \n",
            "108        NaN         1歳      43380          右  \n",
            "109        NaN        なし？      41183        NaN  \n",
            "110        NaN        NaN      40075          両  \n",
            "\n",
            "[111 rows x 10 columns]\n",
            "              id                                         Unnamed: 1  \\\n",
            "0      2695701.0  5fda9dfea0b519055ca741d4b245357ae8a3cf99e29816...   \n",
            "1      9263308.0  d844758baeee8a09d533f3db94566437bd19578fdfba67...   \n",
            "2     10639701.0  b4cf155a59b2bb602544886ef0d9c16f80828f08299b1d...   \n",
            "3     11251817.0  01e1e3926ff1224279bca767e9fd6e084fadf6f86d1f55...   \n",
            "4     10711677.0  329e00e9b0e76dc496720141df2bcc7c10ee4fa2e3804a...   \n",
            "...          ...                                                ...   \n",
            "8206  11547743.0  bb67f2fe36c3cb16d4a4901599240be9fa805679b4e2b5...   \n",
            "8207  11145985.0  90707b0bccb84d6d48581227e5b6daa74eef3ba76024dc...   \n",
            "8208   9169943.0  c7e43a788ebc96e6ffb9ebfcddbb733b89b635d2ec7aae...   \n",
            "8209  11416746.0  c4b9d8972d156a98677236a7f7bf6e0e3466d157703184...   \n",
            "8210  10467886.0  17c6d4590654811b1ace226cac226a07c7daaf67038b1c...   \n",
            "\n",
            "      image_name       Unnamed: 3  Unnamed: 4  ... Unnamed: 133 Unnamed: 134  \\\n",
            "0         1041.0   2008/6/19 0:00        60.0  ...          NaN          NaN   \n",
            "1         1259.0  2008/12/10 0:00        43.0  ...          NaN          NaN   \n",
            "2         1483.0   2017/11/2 0:00        89.0  ...          NaN          NaN   \n",
            "3         1508.0  2016/10/20 0:00        54.0  ...          NaN          NaN   \n",
            "4         2736.0  2013/10/25 0:00        28.0  ...          NaN          NaN   \n",
            "...          ...              ...         ...  ...          ...          ...   \n",
            "8206      2218.0   2018/6/28 0:00        19.0  ...          NaN          NaN   \n",
            "8207      2976.0   2016/3/23 0:00        43.0  ...          NaN          NaN   \n",
            "8208      2557.0  2007/11/28 0:00         0.0  ...          NaN          NaN   \n",
            "8209      1978.0   2017/9/27 0:00        26.0  ...          NaN          NaN   \n",
            "8210      8210.0   2012/7/28 0:00        78.0  ...          NaN          NaN   \n",
            "\n",
            "     Unnamed: 135 Unnamed: 136 Unnamed: 137  \n",
            "0             NaN           眼科         60.0  \n",
            "1             NaN           眼科         43.0  \n",
            "2             NaN           眼科         89.0  \n",
            "3             NaN           眼科         54.0  \n",
            "4             NaN           眼科         28.0  \n",
            "...           ...          ...          ...  \n",
            "8206          NaN           眼科         19.0  \n",
            "8207          NaN           眼科         43.0  \n",
            "8208          NaN           眼科          0.0  \n",
            "8209          NaN           眼科         26.0  \n",
            "8210          NaN           眼科         78.0  \n",
            "\n",
            "[8211 rows x 138 columns]\n"
          ],
          "name": "stdout"
        },
        {
          "output_type": "stream",
          "text": [
            "/usr/local/lib/python3.7/dist-packages/IPython/core/interactiveshell.py:2822: DtypeWarning: Columns (6,8,13,14,15,16,17,18,19,20,21,52,53,54,55,56,57,58,59,60,61,62,63,64,65,66,67,68,69,70,71,72,73,74,75,76,77,78,79,80,81,82,83,86,87,99,101,102,104,105,106,107,108,118,122,123,129,131,132,133,134,135) have mixed types.Specify dtype option on import or set low_memory=False.\n",
            "  if self.run_code(code, result):\n"
          ],
          "name": "stderr"
        }
      ]
    },
    {
      "cell_type": "code",
      "metadata": {
        "id": "N_FxdPOWliYK",
        "colab": {
          "base_uri": "https://localhost:8080/"
        },
        "outputId": "acf1bd74-fa74-433b-9096-e7f1f500a9e8"
      },
      "source": [
        "df2.iloc[0:,0]"
      ],
      "execution_count": null,
      "outputs": [
        {
          "output_type": "execute_result",
          "data": {
            "text/plain": [
              "0        2695701.0\n",
              "1        9263308.0\n",
              "2       10639701.0\n",
              "3       11251817.0\n",
              "4       10711677.0\n",
              "           ...    \n",
              "8206    11547743.0\n",
              "8207    11145985.0\n",
              "8208     9169943.0\n",
              "8209    11416746.0\n",
              "8210    10467886.0\n",
              "Name: id, Length: 8211, dtype: float64"
            ]
          },
          "metadata": {
            "tags": []
          },
          "execution_count": 28
        }
      ]
    },
    {
      "cell_type": "markdown",
      "metadata": {
        "id": "xxJoa0PptzZS"
      },
      "source": [
        "#**CSVから該当する文字列のある行を抜き出すサンプルコード**"
      ]
    },
    {
      "cell_type": "code",
      "metadata": {
        "id": "PLz4UM0Ip9Ch",
        "colab": {
          "base_uri": "https://localhost:8080/"
        },
        "outputId": "73f6f06f-1fdf-4599-cf6e-ce323baaeff4"
      },
      "source": [
        "#df2の0列目から\"2695701\"を見つけて、その行を抜き出す\n",
        "#さらにその行の2列目の内容を出力する\n",
        "\n",
        "img_num = df2[df2.iloc[0:,0] == 2695701].iloc[0,2]\n",
        "print(img_num)"
      ],
      "execution_count": null,
      "outputs": [
        {
          "output_type": "stream",
          "text": [
            "1041.0\n"
          ],
          "name": "stdout"
        }
      ]
    },
    {
      "cell_type": "code",
      "metadata": {
        "id": "YXU0hjJNt8Qp"
      },
      "source": [
        "k=0\n",
        "\n",
        "for i in range(len(df1)):\n",
        "    id = df1.iloc[k,1]\n"
      ],
      "execution_count": null,
      "outputs": []
    },
    {
      "cell_type": "code",
      "metadata": {
        "id": "WMzNM2Ptgah8",
        "colab": {
          "base_uri": "https://localhost:8080/"
        },
        "outputId": "ea12d2d6-0a6c-426c-b4b9-aa0dceb6f714"
      },
      "source": [
        "def transpose_value(df1, df2):\n",
        "    k=0\n",
        "    for i in range(len(df1)):\n",
        "        id = df1.iloc[k,1]  #CSV1つ目のidを取得\n",
        "\n",
        "        try:\n",
        "            img_num = df2[df2.iloc[0:,0] == int(id)].iloc[0,2]\n",
        "        except: #一致するIDがなければ空欄にする\n",
        "            img_num = \"\"\n",
        "\n",
        "        df1.iloc[k, 3] = img_num #CSV1つ目の所定の場所に代入\n",
        "        k+=1\n",
        "    return df1\n",
        "\n",
        "\n",
        "df3 = transpose_value(df1, df2)\n",
        "\n",
        "print(df3)\n",
        "\n",
        "\n"
      ],
      "execution_count": null,
      "outputs": [
        {
          "output_type": "stream",
          "text": [
            "     Unnamed: 0        id Unnamed: 2 Unnamed: 3    Unnamed: 4 Unnamed: 5  \\\n",
            "0          32.0   8371461          女             followなし 無投薬        NaN   \n",
            "1          33.0   9243553          女                 followなし        NaN   \n",
            "2          34.0  10027421          女       5862     2010/5/19        NaN   \n",
            "3          35.0   7213745          男       3145     2010/3/31        NaN   \n",
            "4          36.0  10995358        NaN       4580     2015/5/25        NaN   \n",
            "..          ...       ...        ...        ...           ...        ...   \n",
            "106       135.0  10581838          女       3725           NaN        NaN   \n",
            "107       136.0   9516680          男                    39843         なし   \n",
            "108       137.0  11885551          男                    43986         あり   \n",
            "109       138.0  10767701          男       4484         43523         あり   \n",
            "110       139.0  11059336          男                    42271         なし   \n",
            "\n",
            "    Unnamed: 6 Unnamed: 7 Unnamed: 8 Unnamed: 9  \n",
            "0          NaN        NaN  2004/1/29        NaN  \n",
            "1          NaN        NaN  2007/10/2        NaN  \n",
            "2          NaN        NaN   2010/5/6          左  \n",
            "3          NaN        NaN  1998/9/28        NaN  \n",
            "4          NaN        NaN  1964/4/23        NaN  \n",
            "..         ...        ...        ...        ...  \n",
            "106        NaN         なし      40027          両  \n",
            "107        NaN         なし      38765          両  \n",
            "108        NaN         1歳      43380          右  \n",
            "109        NaN        なし？      41183        NaN  \n",
            "110        NaN        NaN      40075          両  \n",
            "\n",
            "[111 rows x 10 columns]\n"
          ],
          "name": "stdout"
        }
      ]
    },
    {
      "cell_type": "markdown",
      "metadata": {
        "id": "cNIlta32-tvY"
      },
      "source": [
        "#**CSVとして保存**"
      ]
    },
    {
      "cell_type": "code",
      "metadata": {
        "id": "LWTILIBW33_n"
      },
      "source": [
        "csv_path = '/content/drive/MyDrive/進行中の研究/先天性緑内障プロジェクト/先天性緑内障1.1.csv'\n",
        "csv = df1.to_csv(csv_path, encoding='utf_8_sig')\n"
      ],
      "execution_count": null,
      "outputs": []
    }
  ]
}