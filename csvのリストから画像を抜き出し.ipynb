{
  "nbformat": 4,
  "nbformat_minor": 0,
  "metadata": {
    "colab": {
      "name": "Untitled80.ipynb",
      "provenance": [],
      "toc_visible": true,
      "authorship_tag": "ABX9TyOVvSpK/NLx2NiIjPeRuP1V",
      "include_colab_link": true
    },
    "kernelspec": {
      "name": "python3",
      "display_name": "Python 3"
    },
    "language_info": {
      "name": "python"
    }
  },
  "cells": [
    {
      "cell_type": "markdown",
      "metadata": {
        "id": "view-in-github",
        "colab_type": "text"
      },
      "source": [
        "<a href=\"https://colab.research.google.com/github/ykitaguchi77/manipulate_CSV/blob/master/csv%E3%81%AE%E3%83%AA%E3%82%B9%E3%83%88%E3%81%8B%E3%82%89%E7%94%BB%E5%83%8F%E3%82%92%E6%8A%9C%E3%81%8D%E5%87%BA%E3%81%97.ipynb\" target=\"_parent\"><img src=\"https://colab.research.google.com/assets/colab-badge.svg\" alt=\"Open In Colab\"/></a>"
      ]
    },
    {
      "cell_type": "markdown",
      "metadata": {
        "id": "Z7fAQHGW-3qJ"
      },
      "source": [
        "#**CSVのリストから指定された画像を抜き出すスクリプト**\n"
      ]
    },
    {
      "cell_type": "code",
      "metadata": {
        "colab": {
          "base_uri": "https://localhost:8080/"
        },
        "id": "XfjsBpLG_oG6",
        "outputId": "5020fb2d-8a34-44eb-a04c-ccfc70c5ae34"
      },
      "source": [
        "#Google colabをマウント\n",
        "from google.colab import drive\n",
        "drive.mount('/content/drive')"
      ],
      "execution_count": 1,
      "outputs": [
        {
          "output_type": "stream",
          "text": [
            "Mounted at /content/drive\n"
          ],
          "name": "stdout"
        }
      ]
    },
    {
      "cell_type": "code",
      "metadata": {
        "colab": {
          "base_uri": "https://localhost:8080/"
        },
        "id": "nDecPUe0-3BU",
        "outputId": "1d6d6922-59b7-491b-d6fd-bc36e1e3a5e1"
      },
      "source": [
        "import pandas as pd\n",
        "\n",
        "\n",
        "df = pd.read_csv('/content/drive/MyDrive/Deep_learning/Olympia_dataset/AI_treatment.csv', encoding='shift_jis')\n",
        "\n",
        "pd.set_option('display.max_rows', 1000)\n",
        "pd.set_option('display.max_columns', 10)\n",
        "print(df)\n"
      ],
      "execution_count": 12,
      "outputs": [
        {
          "output_type": "stream",
          "text": [
            "      写真No.  性       初診年月日        生年月日  年令  ... 程度      分類                治療法  \\\n",
            "0         1  男  2019.09.19  1962.09.11  57  ...  0  コントロール                NaN   \n",
            "1         2  女  2019.08.27  1960.03.10  59  ...  3       軽                NaN   \n",
            "2         3  女  2019.01.04  1971.04.12  47  ...  3       中                NaN   \n",
            "3         4  女  2019.01.04  1969.04.19  49  ...  1       中  パルス、筋ケナ、球後注、リニアック   \n",
            "4         5  男  2019.01.04  1966.11.24  52  ...  2       中          筋ケナ、Botox   \n",
            "...     ... ..         ...         ...  ..  ... ..     ...                ...   \n",
            "1011   1027  女  2019.11.26  1975.05.01  44  ...  2       軽                瞼ケナ   \n",
            "1012   1028  女  2019.11.27  1977.01.17  42  ...  1       中            瞼ケナ、パルス   \n",
            "1013   1029  女  2019.11.28  1950.08.30  69  ...  1       重    パルス、Botox、リニアック   \n",
            "1014   1030  女  2019.12.03  1975.11.24  44  ...  1       重                パルス   \n",
            "1015   1031  男  2019.12.03  1962.09.17  57  ...  1       重      球後注、パルス、Botox   \n",
            "\n",
            "      ステロイド治療  Treatment 1:Yes 0:No  \n",
            "0         NaN                     0  \n",
            "1         NaN                     0  \n",
            "2         NaN                     0  \n",
            "3         パルス                     1  \n",
            "4        局所注射                     1  \n",
            "...       ...                   ...  \n",
            "1011     局所注射                     1  \n",
            "1012      パルス                     1  \n",
            "1013      パルス                     1  \n",
            "1014      パルス                     1  \n",
            "1015      パルス                     1  \n",
            "\n",
            "[1016 rows x 15 columns]\n"
          ],
          "name": "stdout"
        }
      ]
    }
  ]
}