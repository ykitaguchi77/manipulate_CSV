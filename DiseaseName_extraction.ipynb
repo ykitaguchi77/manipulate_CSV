{
  "nbformat": 4,
  "nbformat_minor": 0,
  "metadata": {
    "colab": {
      "name": "Untitled59.ipynb",
      "provenance": [],
      "include_colab_link": true
    },
    "kernelspec": {
      "name": "python3",
      "display_name": "Python 3"
    },
    "language_info": {
      "name": "python"
    }
  },
  "cells": [
    {
      "cell_type": "markdown",
      "metadata": {
        "id": "view-in-github",
        "colab_type": "text"
      },
      "source": [
        "<a href=\"https://colab.research.google.com/github/ykitaguchi77/manipulate_CSV/blob/master/DiseaseName_extraction.ipynb\" target=\"_parent\"><img src=\"https://colab.research.google.com/assets/colab-badge.svg\" alt=\"Open In Colab\"/></a>"
      ]
    },
    {
      "cell_type": "markdown",
      "metadata": {
        "id": "aoXy5R2QV7MO"
      },
      "source": [
        "#**病名を含むリストを抽出するスクリプト**\n",
        "csvから特定の文字列を含む行を抜き出して保存"
      ]
    },
    {
      "cell_type": "code",
      "metadata": {
        "id": "gr7Q2Jy8V6qG",
        "outputId": "86989064-8963-4c7b-92e3-d4e41b80737e",
        "colab": {
          "base_uri": "https://localhost:8080/"
        }
      },
      "source": [
        "from google.colab import drive\n",
        "drive.mount('/content/drive')"
      ],
      "execution_count": 1,
      "outputs": [
        {
          "output_type": "stream",
          "text": [
            "Mounted at /content/drive\n"
          ],
          "name": "stdout"
        }
      ]
    },
    {
      "cell_type": "code",
      "metadata": {
        "id": "vBwzMI-JWDBz",
        "outputId": "b7ae31e4-a087-4af4-c848-83ea935831e3",
        "colab": {
          "base_uri": "https://localhost:8080/"
        }
      },
      "source": [
        "import csv\n",
        "import numpy as np\n",
        "import os\n",
        "import os.path\n",
        "import sys\n",
        "import glob\n",
        "import pandas as pd\n",
        "import codecs\n",
        "\n",
        "byoumei=[\"斜視\"]\n",
        "csv_path = '/content/drive/MyDrive/進行中の研究/斜視AIプロジェクト/no7279_小児科から眼科への紹介受診.csv'\n",
        "dst_folder = '/content/drive/MyDrive/進行中の研究/斜視AIプロジェクト/'\n",
        "\n",
        "#各ファイルを開く　※codec errorを回避\n",
        "#with codecs.open(csv_path, \"r\", \"utf-8\", \"ignore\") as file:\n",
        "with codecs.open(csv_path, \"r\", \"shift_jis\", \"ignore\") as file:\n",
        "    df = pd.read_csv(file, delimiter=\",\", header=None)\n",
        "print(df)\n",
        "\n",
        "#ファイル名設定のための前処理\n",
        "byoumei_filename = byoumei[0]\n",
        "j=1\n",
        "for i in range(len(byoumei)-1):\n",
        "    byoumei_filename = byoumei_filename + '.' + byoumei[j]\n",
        "    j+=1\n",
        "dst_path = dst_folder + \"/Disease_extracted_\" + byoumei_filename+ \".csv\""
      ],
      "execution_count": 12,
      "outputs": [
        {
          "output_type": "stream",
          "text": [
            "            0   ...                                                 16\n",
            "0    PATIENTNO  ...                                                 返信\n",
            "1     11449970  ...  現段階では右眼の緑内障所見は認めておりません。\\r\\n2ヶ月後に再診させていただきます。\\r...\n",
            "2     11451506  ...  お世話になります。\\r\\n眼科的に特記すべき異常はありません。なおお手数ですが、眼科対診時に...\n",
            "3     11455929  ...                                                NaN\n",
            "4     11456515  ...  平素よりお世話になります。\\r\\n両眼圧正常高値でした。近医にて定期的にフォロー頂くよう説明...\n",
            "..         ...  ...                                                ...\n",
            "681   12064507  ...  御紹介ありがとうございます。\\r\\n未熟児網膜症を疑う所見は認めておりませんでした。\\r\\n...\n",
            "682   12064874  ...  御紹介ありがとうございます。\\r\\n白内障みとめず、眼底も異常みとめませんでした。\\r\\n今...\n",
            "683   12065905  ...  御紹介ありがとうございます。\\r\\n特記すべき異常所見は認めておりませんでした。\\r\\n今後...\n",
            "684   12068361  ...  御紹介ありがとうございます。\\r\\n特記すべき異常所見は認めておりませんでした。\\r\\n今後...\n",
            "685   12078670  ...  御紹介ありがとうございます。\\r\\n特記すべき異常所見は認めておりませんでした。\\r\\n今後...\n",
            "\n",
            "[686 rows x 17 columns]\n"
          ],
          "name": "stdout"
        }
      ]
    },
    {
      "cell_type": "markdown",
      "metadata": {
        "id": "EDLo1wA1WObk"
      },
      "source": [
        "#**病名を含むリストを抽出**"
      ]
    },
    {
      "cell_type": "code",
      "metadata": {
        "id": "JbUopD7TWTij",
        "outputId": "151cda14-ffaa-48a7-8939-7e8c21c2f0f7",
        "colab": {
          "base_uri": "https://localhost:8080/"
        }
      },
      "source": [
        "list=pd.DataFrame({}) #空のリストを定義\n",
        "\n",
        "for i in byoumei:\n",
        "    for j in range(df.shape[1]):  #それぞれの列に対して検索をかける\n",
        "        extract = df[df[j].astype(str).str.contains(i, na=False)] #数字、naに関するエラーを回避\n",
        "        list = list.append(extract)\n",
        "\n",
        "#重複した行を削除\n",
        "list = list[~list.duplicated()]\n",
        "#番号順に並び替え\n",
        "list = list.sort_values([2]) #[2]は列番号\n",
        "\n",
        "print(str(len(list))+\"例抽出されました！\")"
      ],
      "execution_count": 13,
      "outputs": [
        {
          "output_type": "stream",
          "text": [
            "73例抽出されました！\n"
          ],
          "name": "stdout"
        }
      ]
    },
    {
      "cell_type": "markdown",
      "metadata": {
        "id": "-NPhE8wCWUF1"
      },
      "source": [
        "#**抽出したファイルを出力**"
      ]
    },
    {
      "cell_type": "code",
      "metadata": {
        "id": "QFtTCYm_WZE8"
      },
      "source": [
        "list.to_csv(dst_path, encoding='utf_8_sig', index = False, header=False)"
      ],
      "execution_count": 14,
      "outputs": []
    }
  ]
}