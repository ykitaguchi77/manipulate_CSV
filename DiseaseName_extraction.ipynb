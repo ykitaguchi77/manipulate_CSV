{
  "nbformat": 4,
  "nbformat_minor": 0,
  "metadata": {
    "colab": {
      "name": "Untitled59.ipynb",
      "provenance": [],
      "authorship_tag": "ABX9TyPVbhWYoqLTzwThqwIbK7kB",
      "include_colab_link": true
    },
    "kernelspec": {
      "name": "python3",
      "display_name": "Python 3"
    },
    "language_info": {
      "name": "python"
    }
  },
  "cells": [
    {
      "cell_type": "markdown",
      "metadata": {
        "id": "view-in-github",
        "colab_type": "text"
      },
      "source": [
        "<a href=\"https://colab.research.google.com/github/ykitaguchi77/manipulate_CSV/blob/master/DiseaseName_extraction.ipynb\" target=\"_parent\"><img src=\"https://colab.research.google.com/assets/colab-badge.svg\" alt=\"Open In Colab\"/></a>"
      ]
    },
    {
      "cell_type": "markdown",
      "metadata": {
        "id": "aoXy5R2QV7MO"
      },
      "source": [
        "#**病名を含むリストを抽出するスクリプト**\n",
        "csvから特定の文字列を含む行を抜き出して保存"
      ]
    },
    {
      "cell_type": "code",
      "metadata": {
        "id": "gr7Q2Jy8V6qG"
      },
      "source": [
        "from google.colab import drive\n",
        "drive.mount('/content/drive')"
      ],
      "execution_count": null,
      "outputs": []
    },
    {
      "cell_type": "code",
      "metadata": {
        "id": "vBwzMI-JWDBz"
      },
      "source": [
        "import csv\n",
        "import numpy as np\n",
        "import os\n",
        "import os.path\n",
        "import sys\n",
        "import glob\n",
        "import pandas as pd\n",
        "import codecs\n",
        "\n",
        "byoumei=[\"内反\", \"乱生\"]\n",
        "csv_path = '/content/drive/MyDrive/Deep_learning/Facephoto_LIST/DiseaseInfo_all_connected_all.csv'\n",
        "dst_folder = '/content/drive/MyDrive/Deep_learning/Facephoto_LIST'\n",
        "\n",
        "#各ファイルを開く　※codec errorを回避\n",
        "with codecs.open(csv_path, \"r\", \"utf-8\", \"ignore\") as file:\n",
        "    df = pd.read_csv(file, delimiter=\",\", header=None)\n",
        "\n",
        "#ファイル名設定のための前処理\n",
        "byoumei_filename = byoumei[0]\n",
        "j=1\n",
        "for i in range(len(byoumei)-1):\n",
        "    byoumei_filename = byoumei_filename + '.' + byoumei[j]\n",
        "    j+=1\n",
        "dst_path = dst_path + \"/Disease_extracted_\" + byoumei_filename+ \".csv\""
      ],
      "execution_count": null,
      "outputs": []
    },
    {
      "cell_type": "markdown",
      "metadata": {
        "id": "EDLo1wA1WObk"
      },
      "source": [
        "#**病名を含むリストを抽出**"
      ]
    },
    {
      "cell_type": "code",
      "metadata": {
        "id": "JbUopD7TWTij"
      },
      "source": [
        "list=pd.DataFrame({}) #空のリストを定義\n",
        "\n",
        "for i in byoumei:\n",
        "    for j in range(df.shape[1]):  #それぞれの列に対して検索をかける\n",
        "        extract = df[df[j].astype(str).str.contains(i, na=False)] #数字、naに関するエラーを回避\n",
        "        list = list.append(extract)\n",
        "\n",
        "#重複した行を削除\n",
        "list = list[~list.duplicated()]\n",
        "#番号順に並び替え\n",
        "list = list.sort_values([2]) #[2]は列番号\n",
        "\n",
        "print(str(len(list))+\"例抽出されました！\")"
      ],
      "execution_count": null,
      "outputs": []
    },
    {
      "cell_type": "markdown",
      "metadata": {
        "id": "-NPhE8wCWUF1"
      },
      "source": [
        "#**抽出したファイルを出力**"
      ]
    },
    {
      "cell_type": "code",
      "metadata": {
        "id": "QFtTCYm_WZE8"
      },
      "source": [
        "list.to_csv(dst_path, encoding='utf_8_sig', index = False, header=False)"
      ],
      "execution_count": null,
      "outputs": []
    }
  ]
}