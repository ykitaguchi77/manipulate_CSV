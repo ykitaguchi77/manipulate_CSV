{
  "nbformat": 4,
  "nbformat_minor": 0,
  "metadata": {
    "colab": {
      "name": "Untitled77.ipynb",
      "provenance": [],
      "authorship_tag": "ABX9TyOAWbDbL+hrcsGExwRRPSUV",
      "include_colab_link": true
    },
    "kernelspec": {
      "name": "python3",
      "display_name": "Python 3"
    },
    "language_info": {
      "name": "python"
    }
  },
  "cells": [
    {
      "cell_type": "markdown",
      "metadata": {
        "id": "view-in-github",
        "colab_type": "text"
      },
      "source": [
        "<a href=\"https://colab.research.google.com/github/ykitaguchi77/manipulate_CSV/blob/master/Extract_disease_age_localColab.ipynb\" target=\"_parent\"><img src=\"https://colab.research.google.com/assets/colab-badge.svg\" alt=\"Open In Colab\"/></a>"
      ]
    },
    {
      "cell_type": "markdown",
      "metadata": {
        "id": "hn2jTBMyw97k"
      },
      "source": [
        "#**指定した病名の含まれている行を抽出して新規リストとして出力するスクリプト**"
      ]
    },
    {
      "cell_type": "code",
      "metadata": {
        "id": "1G1U4PXDwLpr"
      },
      "source": [
        "import csv\n",
        "import numpy as np\n",
        "import os\n",
        "import os.path\n",
        "import sys\n",
        "import glob\n",
        "import pandas as pd\n",
        "import codecs"
      ],
      "execution_count": 1,
      "outputs": []
    },
    {
      "cell_type": "code",
      "metadata": {
        "id": "xodg0LgxrOne"
      },
      "source": [
        "#xからyまでの数列を作る\n",
        "def createList(x,y):\n",
        "    lst = []\n",
        "    for i in range(x,y+1):\n",
        "        lst.append(i)\n",
        "    return lst\n",
        "\n",
        "data_path = r'C:\\Users\\ykita\\FacePhoto\\DiseaseInfo_all_connected.csv'\n",
        "min_age = 0\n",
        "max_age = 150\n",
        "column = createList(5,24) #5行目から24行目までの病名を探索\n"
      ],
      "execution_count": 2,
      "outputs": []
    },
    {
      "cell_type": "code",
      "metadata": {
        "id": "Sfr0qDMMu4rn"
      },
      "source": [
        "#CSV fileを開く\n",
        "#文字化けする時は、utf8, shift-jis, cp932のいずれかに変更\n",
        "with codecs.open(data_path, \"r\", \"utf8\", \"ignore\") as file:\n",
        "    df_orig = pd.read_csv(file, delimiter=\",\",  header=None)\n",
        "df_orig"
      ],
      "execution_count": null,
      "outputs": []
    },
    {
      "cell_type": "code",
      "metadata": {
        "id": "QP04giTyPFdU"
      },
      "source": [
        "#modules\n",
        "def extract(byoumei, df_orig):\n",
        "    #もとのcsvと列名を揃えたデータフレームを作成\n",
        "    cols =  df_orig.columns\n",
        "    df_dst = pd.DataFrame(index=[], columns=cols)\n",
        "    for i in column:\n",
        "        df_extract = (df_orig[df_orig[i].str.contains(byoumei, na=False)])\n",
        "        df_dst = pd.concat([df_extract, df_dst])\n",
        "    df_dst = df_dst[~df_dst.duplicated()]\n",
        "    df_dst.sort_values(by=2,ascending=True, inplace=True)\n",
        "    return df_dst\n",
        "\n",
        "def sort_by_age(min_age, max_age, df):\n",
        "    df_dst = df[(df[3]>=min_age) & (df[3]<=max_age)] #3列目が年齢に該当\n",
        "    return df_dst"
      ],
      "execution_count": 7,
      "outputs": []
    },
    {
      "cell_type": "markdown",
      "metadata": {
        "id": "iYWftQnO_kCF"
      },
      "source": [
        "#**病名でソート**"
      ]
    },
    {
      "cell_type": "code",
      "metadata": {
        "colab": {
          "base_uri": "https://localhost:8080/"
        },
        "id": "wfH1KRcs0KpU",
        "outputId": "aeb8b6d3-54ed-4d36-a5bb-df8a9b717a7d"
      },
      "source": [
        "byoumei = '外斜視'\n",
        "\n",
        "df_dst = extract(byoumei, df_orig)\n",
        "#print(df_dst)\n",
        "print(len(df_dst))"
      ],
      "execution_count": 8,
      "outputs": [
        {
          "output_type": "stream",
          "name": "stdout",
          "text": [
            "2419\n"
          ]
        }
      ]
    },
    {
      "cell_type": "code",
      "metadata": {
        "id": "hWZoEEBB-Tbt"
      },
      "source": [
        "dst_path = r'C:\\Users\\ykita\\FacePhoto\\DiseaseInfo_extracted_'+byoumei+'.csv'\n",
        "df_dst.to_csv(dst_path, encoding='utf_8_sig', index = False, header=False)"
      ],
      "execution_count": null,
      "outputs": []
    },
    {
      "cell_type": "markdown",
      "metadata": {
        "id": "j_Ma9LD4_q-9"
      },
      "source": [
        "#**年齢でソート**"
      ]
    },
    {
      "cell_type": "code",
      "metadata": {
        "colab": {
          "base_uri": "https://localhost:8080/"
        },
        "id": "f5zCqZa0BYsj",
        "outputId": "23dee584-73c4-4485-db26-b71eb20eccb9"
      },
      "source": [
        "min_age = 0\n",
        "max_age = 150\n",
        "\n",
        "df_dst = sort_by_age(min_age, max_age,df_orig)\n",
        "print(len(df_dst))"
      ],
      "execution_count": 9,
      "outputs": [
        {
          "output_type": "stream",
          "name": "stdout",
          "text": [
            "9825\n"
          ]
        }
      ]
    },
    {
      "cell_type": "code",
      "metadata": {
        "id": "6IOVddl5CLtE"
      },
      "source": [
        "dst_path = r'C:\\Users\\ykita\\FacePhoto\\DiseaseInfo_ageSorted_'+str(min_age)+'to'+str(max_age)+'.csv'\n",
        "df_dst.to_csv(dst_path, encoding='utf_8_sig', index = False, header=False)"
      ],
      "execution_count": null,
      "outputs": []
    },
    {
      "cell_type": "markdown",
      "metadata": {
        "id": "cWsMhTgIEOwk"
      },
      "source": [
        "#**病名かつ年齢でソート**"
      ]
    },
    {
      "cell_type": "code",
      "metadata": {
        "colab": {
          "base_uri": "https://localhost:8080/"
        },
        "id": "B5PHOS44EXzL",
        "outputId": "15aadcd1-6a04-48a6-b285-d2f100e02747"
      },
      "source": [
        "byoumei = '外斜視'\n",
        "min_age = 21\n",
        "max_age = 100\n",
        "\n",
        "df_dst = extract(byoumei, df_orig)\n",
        "df_dst = sort_by_age(min_age, max_age,df_dst)\n",
        "print(len(df_dst))\n"
      ],
      "execution_count": 13,
      "outputs": [
        {
          "output_type": "stream",
          "name": "stdout",
          "text": [
            "1304\n"
          ]
        }
      ]
    },
    {
      "cell_type": "code",
      "metadata": {
        "id": "OQkPS1eELbd-"
      },
      "source": [
        "dst_path = r'C:\\Users\\ykita\\FacePhoto\\DiseaseInfo_extracted_'+byoumei+'_'+str(min_age)+'to'+str(max_age)+'.csv'\n",
        "df_dst.to_csv(dst_path, encoding='utf_8_sig', index = False, header=False)"
      ],
      "execution_count": 14,
      "outputs": []
    },
    {
      "cell_type": "markdown",
      "metadata": {
        "id": "OI_YeDViEz58"
      },
      "source": [
        "#**病名が含まれていないものを抜き出し（年齢縛りあり）**"
      ]
    },
    {
      "cell_type": "code",
      "metadata": {
        "colab": {
          "base_uri": "https://localhost:8080/"
        },
        "id": "itnfUQSIE6BT",
        "outputId": "b702dd39-57f2-4874-f299-4e1da05e7cfc"
      },
      "source": [
        "def reverse_extract(byoumei, df_orig):\n",
        "    #もとのcsvと列名を揃えたデータフレームを作成\n",
        "    cols =  df_orig.columns\n",
        "    df_byoumei = pd.DataFrame(index=[], columns=cols)\n",
        "    #まず病名が含まれるdataframeを抜き出す\n",
        "    for i in column:\n",
        "        df_extract = (df_orig[df_orig[i].str.contains(byoumei, na=False)]) #文字列が含まれていないものを抜き出し\n",
        "        df_byoumei = pd.concat([df_extract, df_byoumei])\n",
        "    df_byoumei = df_byoumei[~df_byoumei.duplicated()]\n",
        "    df_dst = df_orig[~df_orig[2].isin(df_byoumei[2])]\n",
        "    #df_dst.sort_values(by=2,ascending=True, inplace=True)\n",
        "    return df_dst\n",
        "\n",
        "df_dst = reverse_extract(\"内斜視\", df_orig)\n",
        "df_dst = reverse_extract(\"外斜視\", df_dst)\n",
        "df_dst = sort_by_age(11,20,df_dst)\n",
        "\n",
        "print(len(df_dst))"
      ],
      "execution_count": null,
      "outputs": [
        {
          "output_type": "stream",
          "name": "stdout",
          "text": [
            "478\n"
          ]
        }
      ]
    },
    {
      "cell_type": "code",
      "metadata": {
        "id": "vwM4ZEEEHIA6"
      },
      "source": [
        "dst_path = r'C:\\Users\\ykita\\FacePhoto\\DiseaseInfo_extracted_'+'内斜視外斜視以外_11to20'+'.csv'\n",
        "df_dst.to_csv(dst_path, encoding='utf_8_sig', index = False, header=False)"
      ],
      "execution_count": null,
      "outputs": []
    }
  ]
}