{
  "nbformat": 4,
  "nbformat_minor": 0,
  "metadata": {
    "colab": {
      "name": "Untitled77.ipynb",
      "provenance": [],
      "authorship_tag": "ABX9TyOcGI3g5HTcDOAFdLkKkSve",
      "include_colab_link": true
    },
    "kernelspec": {
      "name": "python3",
      "display_name": "Python 3"
    },
    "language_info": {
      "name": "python"
    }
  },
  "cells": [
    {
      "cell_type": "markdown",
      "metadata": {
        "id": "view-in-github",
        "colab_type": "text"
      },
      "source": [
        "<a href=\"https://colab.research.google.com/github/ykitaguchi77/manipulate_CSV/blob/master/Extract_disease_age_localColab.ipynb\" target=\"_parent\"><img src=\"https://colab.research.google.com/assets/colab-badge.svg\" alt=\"Open In Colab\"/></a>"
      ]
    },
    {
      "cell_type": "markdown",
      "metadata": {
        "id": "hn2jTBMyw97k"
      },
      "source": [
        "#**指定した病名の含まれている行を抽出して新規リストとして出力するスクリプト**"
      ]
    },
    {
      "cell_type": "code",
      "metadata": {
        "id": "1G1U4PXDwLpr"
      },
      "source": [
        "import csv\n",
        "import numpy as np\n",
        "import os\n",
        "import os.path\n",
        "import sys\n",
        "import glob\n",
        "import pandas as pd\n",
        "import codecs"
      ],
      "execution_count": 9,
      "outputs": []
    },
    {
      "cell_type": "code",
      "metadata": {
        "id": "xodg0LgxrOne"
      },
      "source": [
        "#xからyまでの数列を作る\n",
        "def createList(x,y):\n",
        "    lst = []\n",
        "    for i in range(x,y+1):\n",
        "        lst.append(i)\n",
        "    return lst\n",
        "\n",
        "data_path = r'C:\\Users\\ykita\\FacePhoto\\DiseaseInfo_all_connected.csv'\n",
        "byoumei = '外斜視'\n",
        "min_age = 0\n",
        "max_age = 150\n",
        "column = createList(5,24) #5行目から24行目までの病名を探索\n"
      ],
      "execution_count": 160,
      "outputs": []
    },
    {
      "cell_type": "code",
      "metadata": {
        "id": "Sfr0qDMMu4rn"
      },
      "source": [
        "#CSV fileを開く\n",
        "#文字化けする時は、utf8, shift-jis, cp932のいずれかに変更\n",
        "with codecs.open(data_path, \"r\", \"utf8\", \"ignore\") as file:\n",
        "    df_orig = pd.read_csv(file, delimiter=\",\",  header=None)\n",
        "df_orig"
      ],
      "execution_count": null,
      "outputs": []
    },
    {
      "cell_type": "markdown",
      "metadata": {
        "id": "iYWftQnO_kCF"
      },
      "source": [
        "#**病名でソート**"
      ]
    },
    {
      "cell_type": "code",
      "metadata": {
        "colab": {
          "base_uri": "https://localhost:8080/"
        },
        "id": "wfH1KRcs0KpU",
        "outputId": "47ed6836-0d50-4ba9-e2e7-3cefc46ac531"
      },
      "source": [
        "def extract(byoumei, df_orig):\n",
        "    #もとのcsvと列名を揃えたデータフレームを作成\n",
        "    cols =  df_orig.columns\n",
        "    df_dst = pd.DataFrame(index=[], columns=cols)\n",
        "    for i in column:\n",
        "        df_extract = (df_orig[df_orig[i].str.contains(byoumei, na=False)])\n",
        "        df_dst = pd.concat([df_extract, df_dst])\n",
        "    df_dst = df_dst[~df_dst.duplicated()]\n",
        "    df_dst.sort_values(by=2,ascending=True, inplace=True)\n",
        "    return df_dst\n",
        "\n",
        "df_dst = extract(byoumei, df_orig)\n",
        "#print(df_dst)\n",
        "print(len(df_dst))"
      ],
      "execution_count": 180,
      "outputs": [
        {
          "output_type": "stream",
          "name": "stdout",
          "text": [
            "1468\n"
          ]
        }
      ]
    },
    {
      "cell_type": "code",
      "metadata": {
        "id": "hWZoEEBB-Tbt"
      },
      "source": [
        "dst_path = r'C:\\Users\\ykita\\FacePhoto\\DiseaseInfo_extracted_'+byoumei+'.csv'\n",
        "df_dst.to_csv(dst_path, encoding='utf_8_sig', index = False, header=False)"
      ],
      "execution_count": 162,
      "outputs": []
    },
    {
      "cell_type": "markdown",
      "metadata": {
        "id": "j_Ma9LD4_q-9"
      },
      "source": [
        "#**年齢でソート**"
      ]
    },
    {
      "cell_type": "code",
      "metadata": {
        "colab": {
          "base_uri": "https://localhost:8080/"
        },
        "id": "f5zCqZa0BYsj",
        "outputId": "11670d10-6efc-4ebb-b274-1c05c7940c0d"
      },
      "source": [
        "def sort_by_age(min_age, max_age, df):\n",
        "    df_dst = df[(df[3]>=min_age) & (df[3]<=max_age)] #3列目が年齢に該当\n",
        "    return df_dst\n",
        "df_dst = sort_by_age(min_age, max_age,df_orig)\n",
        "print(len(df_dst))"
      ],
      "execution_count": 144,
      "outputs": [
        {
          "output_type": "stream",
          "name": "stdout",
          "text": [
            "2945\n"
          ]
        }
      ]
    },
    {
      "cell_type": "code",
      "metadata": {
        "id": "6IOVddl5CLtE"
      },
      "source": [
        "dst_path = r'C:\\Users\\ykita\\FacePhoto\\DiseaseInfo_ageSorted_'+str(min_age)+'to'+str(max_age)+'.csv'\n",
        "df_dst.to_csv(dst_path, encoding='utf_8_sig', index = False, header=False)"
      ],
      "execution_count": null,
      "outputs": []
    },
    {
      "cell_type": "markdown",
      "metadata": {
        "id": "cWsMhTgIEOwk"
      },
      "source": [
        "#**病名かつ年齢でソート**"
      ]
    },
    {
      "cell_type": "code",
      "metadata": {
        "colab": {
          "base_uri": "https://localhost:8080/"
        },
        "id": "B5PHOS44EXzL",
        "outputId": "fc9241ba-1e93-4816-b8cc-d5dccaab3f65"
      },
      "source": [
        "byoumei = '内斜視'\n",
        "min_age = 0\n",
        "max_age = 10\n",
        "\n",
        "df_dst = extract(byoumei, df_orig)\n",
        "df_dst = sort_by_age(min_age, max_age,df_dst)\n",
        "print(len(df_dst))\n"
      ],
      "execution_count": 167,
      "outputs": [
        {
          "output_type": "stream",
          "name": "stdout",
          "text": [
            "345\n"
          ]
        }
      ]
    },
    {
      "cell_type": "markdown",
      "metadata": {
        "id": "OI_YeDViEz58"
      },
      "source": [
        "#**病名が含まれていないものを抜き出し（年齢縛りあり）**"
      ]
    },
    {
      "cell_type": "code",
      "metadata": {
        "colab": {
          "base_uri": "https://localhost:8080/"
        },
        "id": "itnfUQSIE6BT",
        "outputId": "73a0430b-52d8-46a7-a92b-a37f1d52450a"
      },
      "source": [
        "def reverse_extract(byoumei, df_orig):\n",
        "    #もとのcsvと列名を揃えたデータフレームを作成\n",
        "    cols =  df_orig.columns\n",
        "    df_byoumei = pd.DataFrame(index=[], columns=cols)\n",
        "    #まず病名が含まれるdataframeを抜き出す\n",
        "    for i in column:\n",
        "        df_extract = (df_orig[df_orig[i].str.contains(byoumei, na=False)]) #文字列が含まれていないものを抜き出し\n",
        "        df_byoumei = pd.concat([df_extract, df_byoumei])\n",
        "    df_byoumei = df_byoumei[~df_byoumei.duplicated()]\n",
        "    df_dst = df_orig[~df_orig[2].isin(df_byoumei[2])]\n",
        "    #df_dst.sort_values(by=2,ascending=True, inplace=True)\n",
        "    return df_dst\n",
        "\n",
        "df_dst = reverse_extract(\"内斜視\", df_orig)\n",
        "df_dst = reverse_extract(\"外斜視\", df_dst)\n",
        "df_dst = sort_by_age(0, 10,df_dst)\n",
        "\n",
        "print(len(df_dst))"
      ],
      "execution_count": 185,
      "outputs": [
        {
          "output_type": "stream",
          "name": "stdout",
          "text": [
            "635\n"
          ]
        }
      ]
    },
    {
      "cell_type": "code",
      "metadata": {
        "id": "vwM4ZEEEHIA6"
      },
      "source": [
        "dst_path = r'C:\\Users\\ykita\\FacePhoto\\DiseaseInfo_'+'内斜視外斜視以外_0to10'+'.csv'\n",
        "df_dst.to_csv(dst_path, encoding='utf_8_sig', index = False, header=False)"
      ],
      "execution_count": 186,
      "outputs": []
    }
  ]
}