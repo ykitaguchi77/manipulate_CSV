{
  "nbformat": 4,
  "nbformat_minor": 0,
  "metadata": {
    "colab": {
      "name": "Untitled63.ipynb",
      "provenance": [],
      "include_colab_link": true
    },
    "kernelspec": {
      "name": "python3",
      "display_name": "Python 3"
    }
  },
  "cells": [
    {
      "cell_type": "markdown",
      "metadata": {
        "id": "view-in-github",
        "colab_type": "text"
      },
      "source": [
        "<a href=\"https://colab.research.google.com/github/ykitaguchi77/manipulate_CSV/blob/master/%E5%85%88%E5%A4%A9%E6%80%A7%E7%B7%91%E5%86%85%E9%9A%9C_CSV%E3%81%A7%E4%B8%80%E8%87%B4%E3%81%99%E3%82%8B%E3%82%AB%E3%83%A9%E3%83%A0%E3%82%92%E5%8F%82%E7%85%A7%E3%81%97%E3%81%A6%E3%82%B3%E3%83%94%E3%83%BC.ipynb\" target=\"_parent\"><img src=\"https://colab.research.google.com/assets/colab-badge.svg\" alt=\"Open In Colab\"/></a>"
      ]
    },
    {
      "cell_type": "code",
      "metadata": {
        "id": "98xd9oXBglXT",
        "colab": {
          "base_uri": "https://localhost:8080/"
        },
        "outputId": "6615cca7-0d6f-4a7e-a36b-bcfa6016529e"
      },
      "source": [
        "#google driveをcolabolatoryにマウント\n",
        "from google.colab import drive\n",
        "drive.mount('/content/drive')"
      ],
      "execution_count": 14,
      "outputs": [
        {
          "output_type": "stream",
          "text": [
            "Drive already mounted at /content/drive; to attempt to forcibly remount, call drive.mount(\"/content/drive\", force_remount=True).\n"
          ],
          "name": "stdout"
        }
      ]
    },
    {
      "cell_type": "code",
      "metadata": {
        "id": "2WKArVad3Coj",
        "colab": {
          "base_uri": "https://localhost:8080/"
        },
        "outputId": "4404bcdb-0f38-4fa7-fa55-4ca575c3d624"
      },
      "source": [
        "import pandas as pd\n",
        "pd.set_option('display.max_columns', 10)\n",
        "\n",
        "\n",
        "def openCSV(csv_path):\n",
        "    try:\n",
        "        df = pd.read_csv(csv_path, encoding=\"shift-jis\")\n",
        "    except:\n",
        "        df = pd.read_csv(csv_path, encoding=\"utf-8\")\n",
        "    #df = df.drop(df.columns[[0]], axis=1) #1列目を削除する\n",
        "    print(df)\n",
        "    return df\n",
        "\n",
        "#CSVを開く （csv1:編集するファイル、csv2:参照するファイル）\n",
        "csv1_path = '/content/drive/MyDrive/進行中の研究/先天性緑内障プロジェクト/先天性緑内障1.3.csv'\n",
        "csv2_path = '/content/drive/MyDrive/進行中の研究/先天性緑内障プロジェクト/DiseaseInfo_all_connected_all.csv'\n",
        "\n",
        "df1, df2 = openCSV(csv1_path), openCSV(csv2_path) #CSVを開く"
      ],
      "execution_count": 18,
      "outputs": [
        {
          "output_type": "stream",
          "text": [
            "     Unnamed: 0        id Unnamed: 2  Unnamed: 3 Unnamed: 4  ... Unnamed: 6  \\\n",
            "0           1.0   2601241          男         NaN         松下  ...        NaN   \n",
            "1           2.0   5658954          男         NaN         松下  ...        NaN   \n",
            "2           3.0   4366674          男         NaN         松下  ...         22   \n",
            "3           4.0   4418561          男         NaN         松下  ...         20   \n",
            "4           5.0   4538090          男         NaN         松下  ...        15歳   \n",
            "..          ...       ...        ...         ...        ...  ...        ...   \n",
            "135       135.0  10581838          女         NaN         松下  ...        NaN   \n",
            "136       136.0   9516680          男         NaN         松下  ...         なし   \n",
            "137       137.0  11885551          男         NaN         松下  ...         あり   \n",
            "138       138.0  10767701          男         NaN         松下  ...         あり   \n",
            "139       139.0  11059336          男         NaN         松下  ...         なし   \n",
            "\n",
            "    Unnamed: 7  Unnamed: 8 Unnamed: 9 Unnamed: 10  \n",
            "0           5歳    1947/5/5      （１）両眼         NaN  \n",
            "1          幼少時   1964/8/29      （１）両眼         NaN  \n",
            "2           6歳   1970/1/10      （１）両眼         NaN  \n",
            "3        5歳2ヵ月   1970/11/5      （１）両眼         NaN  \n",
            "4        3歳3ヵ月  1972/10/15      （３）左眼         NaN  \n",
            "..         ...         ...        ...         ...  \n",
            "135        NaN          なし      40027           両  \n",
            "136        NaN          なし      38765           両  \n",
            "137        NaN          1歳      43380           右  \n",
            "138        NaN         なし？      41183         NaN  \n",
            "139        NaN         NaN      40075           両  \n",
            "\n",
            "[140 rows x 11 columns]\n",
            "        10893530  \\\n",
            "0      7777705.0   \n",
            "1     10527858.0   \n",
            "2     10021590.0   \n",
            "3     10964694.0   \n",
            "4      7711566.0   \n",
            "...          ...   \n",
            "9819  11613788.0   \n",
            "9820   9055165.0   \n",
            "9821  11452681.0   \n",
            "9822   6911048.0   \n",
            "9823  11587782.0   \n",
            "\n",
            "     d8847829893b30e2bff7943b01ca557fe839cf9b649d5e51b22a88c8b6a16b1d     1  \\\n",
            "0     a084892cbe599b02304e56535d7072d736271bd487abf4...                   2   \n",
            "1     d53872e128cd3d405f313b5c179a079a2fbeda852bca2d...                   3   \n",
            "2     9366a1267f814193d9ac2f13786d89acdb16456ee46db4...                   4   \n",
            "3     c5fbf6684b10dc2f84635ba7fcb3b0c7b6021b34bf4938...                   5   \n",
            "4     6ed82083cf58489e4a01e05edbc9f5b3f0d350c5978b10...                   6   \n",
            "...                                                 ...                 ...   \n",
            "9819  757069f15bc74739c51f5fe03167d51f594f4779017b2b...                9831   \n",
            "9820  51e7f294b7b63f15864316bbaf5b701b43f0c11c18c9fd...                9832   \n",
            "9821  f7345ccf09fe678c1ba8487d9a61e4bfc1658144b98ae9...                9833   \n",
            "9822  23753e35a4b02c439e9adecab3d26887ba4729e07258fa...                9834   \n",
            "9823  b3e8e6f86945cf4e67c8e473ff99a6ecadb99b5327f5f5...                9835   \n",
            "\n",
            "      45  Female  ... Unnamed: 20 Unnamed: 21 Unnamed: 22 Unnamed: 23  \\\n",
            "0     74  Female  ...         NaN         NaN         NaN         NaN   \n",
            "1     59    Male  ...         NaN         NaN         NaN         NaN   \n",
            "2     46  Female  ...         NaN         NaN         NaN         NaN   \n",
            "3     64  Female  ...         NaN         NaN         NaN         NaN   \n",
            "4     20    Male  ...         NaN         NaN         NaN         NaN   \n",
            "...   ..     ...  ...         ...         ...         ...         ...   \n",
            "9819  43  Female  ...         NaN         NaN         NaN         NaN   \n",
            "9820  50  Female  ...          弱視         NaN         NaN         NaN   \n",
            "9821  33    Male  ...         NaN         NaN         NaN         NaN   \n",
            "9822  27    Male  ...         NaN         NaN         NaN         NaN   \n",
            "9823  73    Male  ...         NaN         NaN         NaN         NaN   \n",
            "\n",
            "     Unnamed: 24  \n",
            "0            NaN  \n",
            "1            NaN  \n",
            "2            NaN  \n",
            "3            NaN  \n",
            "4            NaN  \n",
            "...          ...  \n",
            "9819         NaN  \n",
            "9820         NaN  \n",
            "9821         NaN  \n",
            "9822         NaN  \n",
            "9823         NaN  \n",
            "\n",
            "[9824 rows x 25 columns]\n"
          ],
          "name": "stdout"
        }
      ]
    },
    {
      "cell_type": "code",
      "metadata": {
        "id": "N_FxdPOWliYK",
        "colab": {
          "base_uri": "https://localhost:8080/"
        },
        "outputId": "16fbf34b-5eee-4c38-e00a-9f194ab3bb39"
      },
      "source": [
        "df2.iloc[0:,0]"
      ],
      "execution_count": 19,
      "outputs": [
        {
          "output_type": "execute_result",
          "data": {
            "text/plain": [
              "0        7777705.0\n",
              "1       10527858.0\n",
              "2       10021590.0\n",
              "3       10964694.0\n",
              "4        7711566.0\n",
              "           ...    \n",
              "9819    11613788.0\n",
              "9820     9055165.0\n",
              "9821    11452681.0\n",
              "9822     6911048.0\n",
              "9823    11587782.0\n",
              "Name: 10893530, Length: 9824, dtype: float64"
            ]
          },
          "metadata": {
            "tags": []
          },
          "execution_count": 19
        }
      ]
    },
    {
      "cell_type": "markdown",
      "metadata": {
        "id": "xxJoa0PptzZS"
      },
      "source": [
        "#**CSVから該当する文字列のある行を抜き出すサンプルコード**"
      ]
    },
    {
      "cell_type": "code",
      "metadata": {
        "id": "PLz4UM0Ip9Ch",
        "colab": {
          "base_uri": "https://localhost:8080/"
        },
        "outputId": "1d56ba26-e801-4976-d1db-3556c0582a5b"
      },
      "source": [
        "#df2の0列目から\"2695701\"を見つけて、その行を抜き出す\n",
        "#さらにその行の2列目の内容を出力する\n",
        "\n",
        "img_num = df2[df2.iloc[0:,0] == 2695701].iloc[0,2]\n",
        "print(img_num)"
      ],
      "execution_count": 25,
      "outputs": [
        {
          "output_type": "stream",
          "text": [
            "1041\n"
          ],
          "name": "stdout"
        }
      ]
    },
    {
      "cell_type": "code",
      "metadata": {
        "id": "WMzNM2Ptgah8",
        "colab": {
          "base_uri": "https://localhost:8080/"
        },
        "outputId": "255d4b49-90a3-4b0c-dd5c-b7e5de546a1a"
      },
      "source": [
        "def transpose_value(df1, df2):\n",
        "    k=0\n",
        "    for i in range(len(df1)):\n",
        "        id = df1.iloc[k,1]  #CSV1つ目のidを取得\n",
        "        print(id)\n",
        "\n",
        "        try:\n",
        "            img_num = df2[df2.iloc[0:,0] == int(id)].iloc[0,2]\n",
        "        except: #一致するIDがなければ空欄にする\n",
        "            img_num = \"\"\n",
        "\n",
        "        df1.iloc[k, 3] = img_num #CSV1つ目の所定の場所に代入\n",
        "        k+=1\n",
        "    return df1\n",
        "\n",
        "\n",
        "df3 = transpose_value(df1, df2)\n",
        "\n",
        "print(df3)\n",
        "\n",
        "\n"
      ],
      "execution_count": 26,
      "outputs": [
        {
          "output_type": "stream",
          "text": [
            "2601241\n",
            "5658954\n",
            "4366674\n",
            "4418561\n",
            "4538090\n",
            "4549138\n",
            "4733547\n",
            "4854585\n",
            "6808564\n",
            "10214012\n",
            "8555159\n",
            "9054201\n",
            "9092531\n",
            "10378101\n",
            "9462698\n",
            "10000421\n",
            "10069313\n",
            "8373601\n",
            "10591862\n",
            "10991573\n",
            "10880622\n",
            "11864842\n",
            "11836232\n",
            "11883331\n",
            "12036153\n",
            "12020235\n",
            "11976106\n",
            "11375422\n",
            "11694741\n",
            "8371461\n",
            "9243553\n",
            "10027421\n",
            "7213745\n",
            "10995358\n",
            "11875175\n",
            "10150301\n",
            "11054823\n",
            "11125319\n",
            "11025963\n",
            "10764531\n",
            "10006088\n",
            "8769917\n",
            "6593268\n",
            "10316767\n",
            "8262979\n",
            "10422301\n",
            "11469165\n",
            "11133997\n",
            "11583440\n",
            "9484391\n",
            "10224814\n",
            "10344055\n",
            "6690640\n",
            "11668428\n",
            "11681710\n",
            "11001127\n",
            "10199151\n",
            "10539291\n",
            "10590416\n",
            "10596566\n",
            "11021283\n",
            "11379987\n",
            "10500062\n",
            "9032143\n",
            "10553866\n",
            "10844815\n",
            "11043901\n",
            "10194489\n",
            "9095843\n",
            "9160716\n",
            "10596566\n",
            "8634576\n",
            "9283624\n",
            "9446187\n",
            "6327486\n",
            "11107496\n",
            "10466648\n",
            "11749826\n",
            "10472902\n",
            "9219782\n",
            "7288333\n",
            "7227430\n",
            "5475436\n",
            "6230395\n",
            "11511991\n",
            "11277579\n",
            "4388732\n",
            "11498951\n",
            "11540310\n",
            "11651434\n",
            "11643487\n",
            "11912111\n",
            "11665274\n",
            "11791658\n",
            "9312471\n",
            "9163904\n",
            "11727626\n",
            "7059434\n",
            "5934137\n",
            "11656919\n",
            "6349101\n",
            "10053634\n",
            "11526858\n",
            "6328787\n",
            "9145701\n",
            "6384397\n",
            "8832697\n",
            "11357152\n",
            "10759803\n",
            "11839740\n",
            "5740800\n",
            "8931043\n",
            "8536071\n",
            "10358485\n",
            "10956481\n",
            "10445611\n",
            "7353157\n",
            "11026390\n",
            "10218071\n",
            "11284513\n",
            "7756810\n",
            "10517521\n",
            "9067153\n",
            "9067153\n",
            "10954961\n",
            "11173051\n",
            "10444482\n",
            "8159511\n",
            "9466934\n",
            "8963646\n",
            "10705524\n",
            "11855133\n",
            "11854631\n",
            "9002320\n",
            "9286941\n",
            "10581838\n",
            "9516680\n",
            "11885551\n",
            "10767701\n",
            "11059336\n",
            "     Unnamed: 0        id Unnamed: 2 Unnamed: 3 Unnamed: 4  ... Unnamed: 6  \\\n",
            "0           1.0   2601241          男                    松下  ...        NaN   \n",
            "1           2.0   5658954          男                    松下  ...        NaN   \n",
            "2           3.0   4366674          男       2898         松下  ...         22   \n",
            "3           4.0   4418561          男                    松下  ...         20   \n",
            "4           5.0   4538090          男                    松下  ...        15歳   \n",
            "..          ...       ...        ...        ...        ...  ...        ...   \n",
            "135       135.0  10581838          女       3725         松下  ...        NaN   \n",
            "136       136.0   9516680          男                    松下  ...         なし   \n",
            "137       137.0  11885551          男       8425         松下  ...         あり   \n",
            "138       138.0  10767701          男       4484         松下  ...         あり   \n",
            "139       139.0  11059336          男                    松下  ...         なし   \n",
            "\n",
            "    Unnamed: 7  Unnamed: 8 Unnamed: 9 Unnamed: 10  \n",
            "0           5歳    1947/5/5      （１）両眼         NaN  \n",
            "1          幼少時   1964/8/29      （１）両眼         NaN  \n",
            "2           6歳   1970/1/10      （１）両眼         NaN  \n",
            "3        5歳2ヵ月   1970/11/5      （１）両眼         NaN  \n",
            "4        3歳3ヵ月  1972/10/15      （３）左眼         NaN  \n",
            "..         ...         ...        ...         ...  \n",
            "135        NaN          なし      40027           両  \n",
            "136        NaN          なし      38765           両  \n",
            "137        NaN          1歳      43380           右  \n",
            "138        NaN         なし？      41183         NaN  \n",
            "139        NaN         NaN      40075           両  \n",
            "\n",
            "[140 rows x 11 columns]\n"
          ],
          "name": "stdout"
        }
      ]
    },
    {
      "cell_type": "markdown",
      "metadata": {
        "id": "cNIlta32-tvY"
      },
      "source": [
        "#**CSVとして保存**"
      ]
    },
    {
      "cell_type": "code",
      "metadata": {
        "id": "LWTILIBW33_n"
      },
      "source": [
        "csv_path = '/content/drive/MyDrive/進行中の研究/先天性緑内障プロジェクト/先天性緑内障1.31.csv'\n",
        "csv = df1.to_csv(csv_path, encoding='utf_8_sig')\n"
      ],
      "execution_count": 27,
      "outputs": []
    }
  ]
}